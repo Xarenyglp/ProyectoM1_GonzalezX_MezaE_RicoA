{
 "cells": [
  {
   "cell_type": "markdown",
   "metadata": {},
   "source": [
    "<img style=\"float: left; margin: 30px 15px 15px 15px;\" src=\"https://pngimage.net/wp-content/uploads/2018/06/logo-iteso-png-5.png\" width=\"300\" height=\"500\" /> \n",
    "    \n",
    "    \n",
    "### <font color='navy'> Simulación de procesos financieros. \n",
    "\n",
    "**Nombres:** Xareny González,  Estefanía Meza, Alejandra Rico\n",
    "\n",
    "**Fecha:** 14 de octubre del 2021.\n",
    "\n",
    "**Expediente** : 720811, 729930, 720838.\n",
    "    \n",
    "**Profesor:** Oscar David Jaramillo Zuluaga.\n",
    "    \n",
    "**Link Github**: [Link con el enlace del repositorio del creador del proyecto](https://github.com/Xarenyglp/ProyectoM1_GonzalezX_MezaE_RicoA)\n",
    "\n",
    "# Proyecto TEMA 1"
   ]
  },
  {
   "cell_type": "markdown",
   "metadata": {},
   "source": [
    "## 1.1 Causas de Enfermedades Cardiovasculares"
   ]
  },
  {
   "cell_type": "markdown",
   "metadata": {},
   "source": [
    "<img src=\"cora.jpg\">"
   ]
  },
  {
   "cell_type": "markdown",
   "metadata": {},
   "source": [
    "## 1.2 Objetivos"
   ]
  },
  {
   "cell_type": "markdown",
   "metadata": {},
   "source": [
    "### Objetivo General"
   ]
  },
  {
   "cell_type": "markdown",
   "metadata": {},
   "source": [
    "> A lo largo del proyecto se pretendrá encontrar qué causas provocan que las personas sean más propensas a desarrollar una enfermedad cardiovascular. "
   ]
  },
  {
   "cell_type": "markdown",
   "metadata": {},
   "source": [
    "### Objetivos Específicos"
   ]
  },
  {
   "cell_type": "markdown",
   "metadata": {},
   "source": [
    "> * Simular la edad en la que una persona es propensa a desarrollar una ECV.\n",
    "> * Simular el nivel de colesterol en la que una persona es propensa a desarrollar una ECV.\n",
    "> * Simular la presión alta en reposo en la que una persona es propensa a desarrollar una ECV.\n",
    "> * Simular la frecuencia cardiaca en la que una persona es propensa a desarrollar una ECV."
   ]
  },
  {
   "cell_type": "markdown",
   "metadata": {},
   "source": [
    "Referencia: https://www.kaggle.com/fedesoriano/heart-failure-prediction"
   ]
  },
  {
   "cell_type": "markdown",
   "metadata": {},
   "source": [
    "## 1.3 Definición del problema"
   ]
  },
  {
   "cell_type": "markdown",
   "metadata": {},
   "source": [
    "> Las enfermedades cardiovasculares (ECV) son la principal causa de muerte a nivel mundial, cobrando un estimado de 17,9 millones de vidas cada año, lo que representa el 31% de todas las muertes en todo el mundo. Cuatro de cada 5 muertes por ECV se deben a ataques cardíacos y accidentes cerebrovasculares, y un tercio de estas muertes ocurren prematuramente en personas menores de 70 años. La insuficiencia cardíaca es un evento común causado por las ECV y este conjunto de datos contiene 11 características que pueden usarse para predecir una posible enfermedad cardíaca.\n",
    "\n",
    "> Las personas con enfermedad cardiovascular o que se encuentran en alto riesgo cardiovascular (debido a la presencia de uno o más factores de riesgo como hipertensión, diabetes, hiperlipidemia o enfermedad ya establecida) necesitan una detección y manejo precoces donde un modelo de aprendizaje automático puede ser de gran ayuda."
   ]
  },
  {
   "cell_type": "markdown",
   "metadata": {},
   "source": [
    "Referencia: https://www.paho.org/es/temas/enfermedades-cardiovasculares"
   ]
  },
  {
   "cell_type": "markdown",
   "metadata": {},
   "source": [
    "## 1.4 Nodos y variables que se decidieron simular y porqué"
   ]
  },
  {
   "cell_type": "markdown",
   "metadata": {},
   "source": [
    "> Para el análisis de esta base de datos nos enfocaremos en las siguientes variables, las cuales consideramos son las más significativas y marcan una diferencia más generalizada en la población:\n",
    "* **Age:** edad\n",
    "* **Cholesterol:** colesterol\n",
    "* **Resting BP:** Presión alta en reposo\n",
    "* **MaxHR:** frecuencia cardiaca máxima\n"
   ]
  },
  {
   "cell_type": "markdown",
   "metadata": {},
   "source": [
    "<img src=\"df.jpg\">"
   ]
  },
  {
   "cell_type": "markdown",
   "metadata": {},
   "source": [
    "## 1.5 Definición de hipótesis y supuestos"
   ]
  },
  {
   "cell_type": "markdown",
   "metadata": {},
   "source": [
    "### Hipótesis"
   ]
  },
  {
   "cell_type": "markdown",
   "metadata": {},
   "source": [
    ">* Las personas con una frecuencia cardíaca alta y colesterol alto son propensas a tener problemas cardiacos.\n",
    ">* El rango de edad para desarrollar una enfermedad cardíaca es entre los 55-70 años de edad."
   ]
  },
  {
   "cell_type": "markdown",
   "metadata": {},
   "source": [
    "### Supuestos"
   ]
  },
  {
   "cell_type": "markdown",
   "metadata": {},
   "source": [
    ">* Los datos estan distribuidos de forma normal.\n",
    ">* La probabilidad de desarrollar alguna enfermadad influye directamente con los síntomas planteados como nodos."
   ]
  },
  {
   "cell_type": "markdown",
   "metadata": {},
   "source": [
    "## 1.6 Obtención de la base de datos"
   ]
  },
  {
   "cell_type": "code",

   "execution_count": 71,

   "execution_count": null,


   "execution_count": 71,

   "metadata": {},
   "outputs": [],
   "source": [
    "import matplotlib.pyplot as plt\n",
    "import numpy as np\n",
    "import pandas as pd\n",
    "from sklearn.neighbors import KernelDensity\n",
    "from scipy.stats import gaussian_kde\n",
    "from statsmodels.nonparametric.kde import KDEUnivariate\n",
    "from statsmodels.nonparametric.kernel_density import KDEMultivariate\n",
    "import scipy.stats as st\n",
    "import statsmodels.api as sm \n",
    "from sklearn.model_selection import GridSearchCV\n",
    "import warnings\n",
    "warnings.filterwarnings(\"ignore\")"
   ]
  },
  {
   "cell_type": "code",
   "execution_count": 123,
   "metadata": {},
   "outputs": [
    {
     "data": {
      "text/html": [
       "<div>\n",
       "<style scoped>\n",
       "    .dataframe tbody tr th:only-of-type {\n",
       "        vertical-align: middle;\n",
       "    }\n",
       "\n",
       "    .dataframe tbody tr th {\n",
       "        vertical-align: top;\n",
       "    }\n",
       "\n",
       "    .dataframe thead th {\n",
       "        text-align: right;\n",
       "    }\n",
       "</style>\n",
       "<table border=\"1\" class=\"dataframe\">\n",
       "  <thead>\n",
       "    <tr style=\"text-align: right;\">\n",
       "      <th></th>\n",
       "      <th>Age</th>\n",
       "      <th>Sex</th>\n",
       "      <th>ChestPainType</th>\n",
       "      <th>RestingBP</th>\n",
       "      <th>Cholesterol</th>\n",
       "      <th>FastingBS</th>\n",
       "      <th>RestingECG</th>\n",
       "      <th>MaxHR</th>\n",
       "      <th>ExerciseAngina</th>\n",
       "      <th>Oldpeak</th>\n",
       "      <th>ST_Slope</th>\n",
       "      <th>HeartDisease</th>\n",
       "    </tr>\n",
       "  </thead>\n",
       "  <tbody>\n",
       "    <tr>\n",
       "      <th>0</th>\n",
       "      <td>40</td>\n",
       "      <td>M</td>\n",
       "      <td>ATA</td>\n",
       "      <td>140</td>\n",
       "      <td>289</td>\n",
       "      <td>0</td>\n",
       "      <td>Normal</td>\n",
       "      <td>172</td>\n",
       "      <td>N</td>\n",
       "      <td>0.0</td>\n",
       "      <td>Up</td>\n",
       "      <td>0</td>\n",
       "    </tr>\n",
       "    <tr>\n",
       "      <th>1</th>\n",
       "      <td>49</td>\n",
       "      <td>F</td>\n",
       "      <td>NAP</td>\n",
       "      <td>160</td>\n",
       "      <td>180</td>\n",
       "      <td>0</td>\n",
       "      <td>Normal</td>\n",
       "      <td>156</td>\n",
       "      <td>N</td>\n",
       "      <td>1.0</td>\n",
       "      <td>Flat</td>\n",
       "      <td>1</td>\n",
       "    </tr>\n",
       "    <tr>\n",
       "      <th>2</th>\n",
       "      <td>37</td>\n",
       "      <td>M</td>\n",
       "      <td>ATA</td>\n",
       "      <td>130</td>\n",
       "      <td>283</td>\n",
       "      <td>0</td>\n",
       "      <td>ST</td>\n",
       "      <td>98</td>\n",
       "      <td>N</td>\n",
       "      <td>0.0</td>\n",
       "      <td>Up</td>\n",
       "      <td>0</td>\n",
       "    </tr>\n",
       "    <tr>\n",
       "      <th>3</th>\n",
       "      <td>48</td>\n",
       "      <td>F</td>\n",
       "      <td>ASY</td>\n",
       "      <td>138</td>\n",
       "      <td>214</td>\n",
       "      <td>0</td>\n",
       "      <td>Normal</td>\n",
       "      <td>108</td>\n",
       "      <td>Y</td>\n",
       "      <td>1.5</td>\n",
       "      <td>Flat</td>\n",
       "      <td>1</td>\n",
       "    </tr>\n",
       "    <tr>\n",
       "      <th>4</th>\n",
       "      <td>54</td>\n",
       "      <td>M</td>\n",
       "      <td>NAP</td>\n",
       "      <td>150</td>\n",
       "      <td>195</td>\n",
       "      <td>0</td>\n",
       "      <td>Normal</td>\n",
       "      <td>122</td>\n",
       "      <td>N</td>\n",
       "      <td>0.0</td>\n",
       "      <td>Up</td>\n",
       "      <td>0</td>\n",
       "    </tr>\n",
       "    <tr>\n",
       "      <th>...</th>\n",
       "      <td>...</td>\n",
       "      <td>...</td>\n",
       "      <td>...</td>\n",
       "      <td>...</td>\n",
       "      <td>...</td>\n",
       "      <td>...</td>\n",
       "      <td>...</td>\n",
       "      <td>...</td>\n",
       "      <td>...</td>\n",
       "      <td>...</td>\n",
       "      <td>...</td>\n",
       "      <td>...</td>\n",
       "    </tr>\n",
       "    <tr>\n",
       "      <th>913</th>\n",
       "      <td>45</td>\n",
       "      <td>M</td>\n",
       "      <td>TA</td>\n",
       "      <td>110</td>\n",
       "      <td>264</td>\n",
       "      <td>0</td>\n",
       "      <td>Normal</td>\n",
       "      <td>132</td>\n",
       "      <td>N</td>\n",
       "      <td>1.2</td>\n",
       "      <td>Flat</td>\n",
       "      <td>1</td>\n",
       "    </tr>\n",
       "    <tr>\n",
       "      <th>914</th>\n",
       "      <td>68</td>\n",
       "      <td>M</td>\n",
       "      <td>ASY</td>\n",
       "      <td>144</td>\n",
       "      <td>193</td>\n",
       "      <td>1</td>\n",
       "      <td>Normal</td>\n",
       "      <td>141</td>\n",
       "      <td>N</td>\n",
       "      <td>3.4</td>\n",
       "      <td>Flat</td>\n",
       "      <td>1</td>\n",
       "    </tr>\n",
       "    <tr>\n",
       "      <th>915</th>\n",
       "      <td>57</td>\n",
       "      <td>M</td>\n",
       "      <td>ASY</td>\n",
       "      <td>130</td>\n",
       "      <td>131</td>\n",
       "      <td>0</td>\n",
       "      <td>Normal</td>\n",
       "      <td>115</td>\n",
       "      <td>Y</td>\n",
       "      <td>1.2</td>\n",
       "      <td>Flat</td>\n",
       "      <td>1</td>\n",
       "    </tr>\n",
       "    <tr>\n",
       "      <th>916</th>\n",
       "      <td>57</td>\n",
       "      <td>F</td>\n",
       "      <td>ATA</td>\n",
       "      <td>130</td>\n",
       "      <td>236</td>\n",
       "      <td>0</td>\n",
       "      <td>LVH</td>\n",
       "      <td>174</td>\n",
       "      <td>N</td>\n",
       "      <td>0.0</td>\n",
       "      <td>Flat</td>\n",
       "      <td>1</td>\n",
       "    </tr>\n",
       "    <tr>\n",
       "      <th>917</th>\n",
       "      <td>38</td>\n",
       "      <td>M</td>\n",
       "      <td>NAP</td>\n",
       "      <td>138</td>\n",
       "      <td>175</td>\n",
       "      <td>0</td>\n",
       "      <td>Normal</td>\n",
       "      <td>173</td>\n",
       "      <td>N</td>\n",
       "      <td>0.0</td>\n",
       "      <td>Up</td>\n",
       "      <td>0</td>\n",
       "    </tr>\n",
       "  </tbody>\n",
       "</table>\n",
       "<p>918 rows × 12 columns</p>\n",
       "</div>"
      ],
      "text/plain": [
       "     Age Sex ChestPainType  RestingBP  Cholesterol  FastingBS RestingECG  \\\n",
       "0     40   M           ATA        140          289          0     Normal   \n",
       "1     49   F           NAP        160          180          0     Normal   \n",
       "2     37   M           ATA        130          283          0         ST   \n",
       "3     48   F           ASY        138          214          0     Normal   \n",
       "4     54   M           NAP        150          195          0     Normal   \n",
       "..   ...  ..           ...        ...          ...        ...        ...   \n",
       "913   45   M            TA        110          264          0     Normal   \n",
       "914   68   M           ASY        144          193          1     Normal   \n",
       "915   57   M           ASY        130          131          0     Normal   \n",
       "916   57   F           ATA        130          236          0        LVH   \n",
       "917   38   M           NAP        138          175          0     Normal   \n",
       "\n",
       "     MaxHR ExerciseAngina  Oldpeak ST_Slope  HeartDisease  \n",
       "0      172              N      0.0       Up             0  \n",
       "1      156              N      1.0     Flat             1  \n",
       "2       98              N      0.0       Up             0  \n",
       "3      108              Y      1.5     Flat             1  \n",
       "4      122              N      0.0       Up             0  \n",
       "..     ...            ...      ...      ...           ...  \n",
       "913    132              N      1.2     Flat             1  \n",
       "914    141              N      3.4     Flat             1  \n",
       "915    115              Y      1.2     Flat             1  \n",
       "916    174              N      0.0     Flat             1  \n",
       "917    173              N      0.0       Up             0  \n",
       "\n",
       "[918 rows x 12 columns]"
      ]
     },
     "execution_count": 123,
     "metadata": {},
     "output_type": "execute_result"
    }
   ],
   "source": [
    "ecv = pd.read_csv('heart.csv').dropna()\n",
    "ecv"
   ]
  },
  {
   "cell_type": "code",
   "execution_count": 157,
   "metadata": {},
   "outputs": [
    {
     "data": {
      "text/html": [
       "<div>\n",
       "<style scoped>\n",
       "    .dataframe tbody tr th:only-of-type {\n",
       "        vertical-align: middle;\n",
       "    }\n",
       "\n",
       "    .dataframe tbody tr th {\n",
       "        vertical-align: top;\n",
       "    }\n",
       "\n",
       "    .dataframe thead th {\n",
       "        text-align: right;\n",
       "    }\n",
       "</style>\n",
       "<table border=\"1\" class=\"dataframe\">\n",
       "  <thead>\n",
       "    <tr style=\"text-align: right;\">\n",
       "      <th></th>\n",
       "      <th>Age</th>\n",
       "      <th>Cholesterol</th>\n",
       "      <th>RestingBP</th>\n",
       "      <th>MaxHR</th>\n",
       "    </tr>\n",
       "  </thead>\n",
       "  <tbody>\n",
       "    <tr>\n",
       "      <th>0</th>\n",
       "      <td>40</td>\n",
       "      <td>289</td>\n",
       "      <td>140</td>\n",
       "      <td>172</td>\n",
       "    </tr>\n",
       "    <tr>\n",
       "      <th>1</th>\n",
       "      <td>49</td>\n",
       "      <td>180</td>\n",
       "      <td>160</td>\n",
       "      <td>156</td>\n",
       "    </tr>\n",
       "    <tr>\n",
       "      <th>2</th>\n",
       "      <td>37</td>\n",
       "      <td>283</td>\n",
       "      <td>130</td>\n",
       "      <td>98</td>\n",
       "    </tr>\n",
       "    <tr>\n",
       "      <th>3</th>\n",
       "      <td>48</td>\n",
       "      <td>214</td>\n",
       "      <td>138</td>\n",
       "      <td>108</td>\n",
       "    </tr>\n",
       "    <tr>\n",
       "      <th>4</th>\n",
       "      <td>54</td>\n",
       "      <td>195</td>\n",
       "      <td>150</td>\n",
       "      <td>122</td>\n",
       "    </tr>\n",
       "    <tr>\n",
       "      <th>...</th>\n",
       "      <td>...</td>\n",
       "      <td>...</td>\n",
       "      <td>...</td>\n",
       "      <td>...</td>\n",
       "    </tr>\n",
       "    <tr>\n",
       "      <th>913</th>\n",
       "      <td>45</td>\n",
       "      <td>264</td>\n",
       "      <td>110</td>\n",
       "      <td>132</td>\n",
       "    </tr>\n",
       "    <tr>\n",
       "      <th>914</th>\n",
       "      <td>68</td>\n",
       "      <td>193</td>\n",
       "      <td>144</td>\n",
       "      <td>141</td>\n",
       "    </tr>\n",
       "    <tr>\n",
       "      <th>915</th>\n",
       "      <td>57</td>\n",
       "      <td>131</td>\n",
       "      <td>130</td>\n",
       "      <td>115</td>\n",
       "    </tr>\n",
       "    <tr>\n",
       "      <th>916</th>\n",
       "      <td>57</td>\n",
       "      <td>236</td>\n",
       "      <td>130</td>\n",
       "      <td>174</td>\n",
       "    </tr>\n",
       "    <tr>\n",
       "      <th>917</th>\n",
       "      <td>38</td>\n",
       "      <td>175</td>\n",
       "      <td>138</td>\n",
       "      <td>173</td>\n",
       "    </tr>\n",
       "  </tbody>\n",
       "</table>\n",
       "<p>702 rows × 4 columns</p>\n",
       "</div>"
      ],
      "text/plain": [
       "     Age  Cholesterol  RestingBP  MaxHR\n",
       "0     40          289        140    172\n",
       "1     49          180        160    156\n",
       "2     37          283        130     98\n",
       "3     48          214        138    108\n",
       "4     54          195        150    122\n",
       "..   ...          ...        ...    ...\n",
       "913   45          264        110    132\n",
       "914   68          193        144    141\n",
       "915   57          131        130    115\n",
       "916   57          236        130    174\n",
       "917   38          175        138    173\n",
       "\n",
       "[702 rows x 4 columns]"
      ]
     },
     "execution_count": 157,
     "metadata": {},
     "output_type": "execute_result"
    }
   ],
   "source": [
    "nodos = ['Age','Cholesterol', 'RestingBP', 'MaxHR']\n",
    "\n",
    "nodoA= pd.DataFrame(ecv,columns=['Age'])\n",
    "nodoC= pd.DataFrame(ecv,columns=['Cholesterol'])\n",
    "nodoR= pd.DataFrame(ecv,columns=['RestingBP'])\n",
    "nodoM= pd.DataFrame(ecv,columns=['MaxHR'])\n",
    "df_nodos=nodoA.join(nodoC).join(nodoR).join(nodoM)\n",
    "df_nodos"
   ]
  },
  {
   "cell_type": "code",
   "execution_count": 162,
   "metadata": {},
   "outputs": [],
   "source": [
    "edad = np.array(ecv['Age'])\n",
    "colesterol = np.array(ecv[\"Cholesterol\"])\n",
    "presion = np.array(ecv[\"RestingBP\"])\n",
    "frecuencia = np.array(ecv[\"MaxHR\"])\n",
    "\n",
    "\n",
    "#EDAD 45 AÑOS\n",
    "#COLESTEROL 240\n",
    "#PRESION 130\n",
    "# FC NORMAL ENTRE 60-100; PROPENSO A DESARROLLAR ABAJO DE 60 Y ARRIBA DE 100\n",
    "\n"
   ]
  },
  {
   "cell_type": "code",
   "execution_count": 144,
   "metadata": {},
   "outputs": [
    {
     "data": {
      "image/png": "[encoded data removed]",
      "text/plain": [
       "<Figure size 432x288 with 1 Axes>"
      ]
     },
     "metadata": {
      "needs_background": "light"
     },
     "output_type": "display_data"
    },
    {
     "data": {
      "image/png": "[encoded data removed]",
      "text/plain": [
       "<Figure size 432x288 with 1 Axes>"
      ]
     },
     "metadata": {
      "needs_background": "light"
     },
     "output_type": "display_data"
    },
    {
     "data": {
      "image/png": "[encoded data removed]",
      "text/plain": [
       "<Figure size 432x288 with 1 Axes>"
      ]
     },
     "metadata": {
      "needs_background": "light"
     },
     "output_type": "display_data"
    },
    {
     "data": {
      "image/png": "[encoded data removed]",
      "text/plain": [
       "<Figure size 432x288 with 1 Axes>"
      ]
     },
     "metadata": {
      "needs_background": "light"
     },
     "output_type": "display_data"
    }
   ],
   "source": [
    "nodos = ['Age','Cholesterol', 'RestingBP', 'MaxHR']\n",
    "for i in range(4):\n",
    "    plt.hist(ecv[nodos[i]],bins=20,label=nodos[i],color='cornflowerblue')\n",
    "    plt.legend()\n",
    "    plt.show()"
   ]
  },
  {
   "cell_type": "markdown",
   "metadata": {},
   "source": [
    "## 1.7 Visualización de resultados de simulación."
   ]
  },
  {
   "cell_type": "code",

   "execution_count": 137,


   "execution_count": 97,

   "execution_count": null,


   "execution_count": 97,

   "metadata": {},
   "outputs": [],
   "source": [
    "def kde_sklearn(x, x_grid, bandwidth, **kwargs):\n",
    "    \"\"\"Kernel Density Estimation with Scikit-learn\"\"\"\n",
    "    kde_skl = KernelDensity(bandwidth=bandwidth, **kwargs)\n",
    "    kde_skl.fit(x[:, np.newaxis])\n",
    "    # score_samples() returns the log-likelihood of the samples\n",
    "    log_pdf = kde_skl.score_samples(x_grid[:, np.newaxis])\n",
    "    return np.exp(log_pdf)\n",
    "\n",
    "def generador_vad(proba_acum: 'Probabilidad acumulada', indices: 'Valores por generar', N: 'Aleatorios por generar'):\n",
    "    diccionario = {i: idx for i, idx in enumerate(indices)}\n",
    "    U = np.random.rand(N)\n",
    "    y = pd.Series([sum([1 for p in proba_acum if p < ui]) for ui in U]).map(diccionario)\n",
    "    return y\n",
    "\n",
    "def kde_sklearn_mod(x, bandwidth, **kwargs):\n",
    "    \"\"\"Kernel Density Estimation with Scikit-learn\"\"\"\n",
    "    kde_skl = KernelDensity(bandwidth=bandwidth, **kwargs)\n",
    "    kde_skl.fit(x[:, np.newaxis])\n",
    "    # score_samples() returns the log-likelihood of the samples\n",
    "    pdf = lambda x_grid: np.exp(kde_skl.score_samples(x_grid[:, np.newaxis])) if isinstance(x_grid, np.ndarray) else \\\n",
    "        np.exp(kde_skl.score_samples(np.array[x_grid])[:, np.newaxis])\n",
    "    return pdf\n",
    "\n",
    "def muestreo_est(B: 'Número de estratos'):\n",
    "    u= np.random.uniform(B) \n",
    "    i=np.arange(0,B) \n",
    "    v = (u+i)/B \n",
    "    return v \n",
    "    \n",
    "# Función que hace las pruebas para ver una distribución que se ajuste mejor al nodo    \n",
    "def prueba_dist(nodo: \"Nodo a estudiar\", bins: 'bins'):\n",
    "    '''\n",
    "    Esta función de devuelve que una gráfica en donde se ve como le quedan distintas distribuciones\n",
    "    arbitrarias al nodo que el usuario debe ingresar a estudiar, además del orden de menor a menor\n",
    "    de las distribuciones que se podrán usar más adelante.\n",
    "    '''\n",
    "    d_continuas = [d for d in dir(st) if isinstance(getattr(st, d), getattr(st, \"rv_continuous\"))]\n",
    "\n",
    "    y, x, _ = plt.hist(nodo, bins=bins, density=True)\n",
    "    x = x[1:]\n",
    "\n",
    "    error = pd.DataFrame(columns = [\"distribución\", \"error\"])\n",
    "    i = 0\n",
    "\n",
    "    for d in d_continuas[10:20]:\n",
    "        try:\n",
    "            params = getattr(st, d).fit(nodo)\n",
    "            y_hat = getattr(st, d)(*params).pdf(x)\n",
    "            error.loc[i, :] = [d, np.mean(np.abs((y - y_hat)/y))] #Error MAPE\n",
    "            plt.plot(x, y_hat, label = d)\n",
    "            i += 1\n",
    "        except:\n",
    "            pass\n",
    "    plt.legend()\n",
    "    plt.show()\n",
    "\n",
    "    error.set_index(\"distribución\", inplace=True)\n",
    "    print(error.sort_values(\"error\"))   \n",
    "    \n",
    "\n",
    "# Función que hace la prueba Q_Q y nos muestra la gráfica.    \n",
    "def q_q(nodo: \"Nodo a simular\", distr:\"Distribución a comparar\"):\n",
    "    '''\n",
    "    Esta función te arroja como se acomoda la distribución elegida (como entrada),\n",
    "    del nodo introducido.\n",
    "    '''\n",
    "    # Histograma de las variables creadas\n",
    "    divisiones = 20 # Cantidad de barras en el histograma\n",
    "    fig, ax = plt.subplots(2,1, figsize=(8,10))\n",
    "    fig.tight_layout(pad=3.0)\n",
    "\n",
    "    y, x, _ = ax[0].hist(nodo, divisiones, density=True, label='Histograma mediciones')\n",
    "\n",
    "    # Función de distribución de probabilidad la cual creemos que mis datos distribuyen \n",
    "    # RECORDAR: SÓLO FUNCIONA PARA DISTRIBUCIONES CONTINUAS\n",
    "    dist = distr\n",
    "    params = getattr(st, dist).fit(nodo)\n",
    "\n",
    "    # Graficar PDF de la distribución que queremos probar\n",
    "\n",
    "    # x = np.arange(measurements.min(), measurements.max(), .01)\n",
    "    y_hat = getattr(st, dist).pdf(x, *params)\n",
    "    ax[0].plot(x, y_hat,'r--', label='Distribución ajustada')\n",
    "    ax[0].set_ylabel('Probabilidad')\n",
    "    ax[0].grid()\n",
    "\n",
    "    grap1 = sm.qqplot(nodo, dist=getattr(st, dist), line='q', fit=True, ax=ax[1])\n",
    "    ax[1].grid()\n",
    "    ax[1].set_title('Paquete stats')   \n",
    "    \n",
    "def complementarios_1(N):\n",
    "    a = np.random.rand(int(N/2))\n",
    "    b = 1-a\n",
    "    return np.concatenate((a,b))\n",
    "    \n",
    "# Asignación de variables para los nodos\n",
    "edad = np.array(ecv['Age'])\n",
    "colesterol = np.array(ecv[\"Cholesterol\"])\n",
    "presion = np.array(ecv[\"RestingBP\"])\n",
    "frecuencia = np.array(ecv[\"MaxHR\"])"
   ]
  },
  {
   "cell_type": "markdown",
   "metadata": {},
   "source": [
    "> Primero se eliminan los **valores atípicos** de los nodos ya que hacen que la distribución varíe más y, por lo tanto, reduce el poder estadístico."
   ]
  },
  {
   "cell_type": "code",
   "execution_count": 141,
   "metadata": {},
   "outputs": [
    {
     "data": {
      "image/png": "[encoded data removed]",
      "text/plain": [
       "<Figure size 432x288 with 1 Axes>"
      ]
     },
     "metadata": {
      "needs_background": "light"
     },
     "output_type": "display_data"
    },
    {
     "data": {
      "image/png": "[encoded data removed]",
      "text/plain": [
       "<Figure size 432x288 with 1 Axes>"
      ]
     },
     "metadata": {
      "needs_background": "light"
     },
     "output_type": "display_data"
    },
    {
     "data": {
      "image/png": "[encoded data removed]",
      "text/plain": [
       "<Figure size 432x288 with 1 Axes>"
      ]
     },
     "metadata": {
      "needs_background": "light"
     },
     "output_type": "display_data"
    },
    {
     "data": {
      "image/png": "[encoded data removed]",
      "text/plain": [
       "<Figure size 432x288 with 1 Axes>"
      ]
     },
     "metadata": {
      "needs_background": "light"
     },
     "output_type": "display_data"
    }
   ],
   "source": [
    "for f in nodos:\n",
    "    q1,q3= np.percentile(ecv[f],[25,75])\n",
    "    iqr = q3 - q1\n",
    "    minimo = q1-(1.5 * iqr) \n",
    "    maximo = q3+(1.5 * iqr)\n",
    "    ecv = ecv[(ecv[f]>=minimo) & (ecv[f]<=maximo)]\n",
    "\n",
    "for i in range(4):\n",
    "    plt.hist(ecv[nodos[i]],bins=20,label=nodos[i])\n",
    "    plt.legend()\n",
    "    plt.show()"
   ]
  },
  {
   "cell_type": "markdown",
   "metadata": {},
   "source": [
    "### NODO EDAD"
   ]
  },
  {
   "cell_type": "code",
   "execution_count": 139,
   "metadata": {},
   "outputs": [
    {
     "data": {
      "image/png": "[encoded data removed]",
      "text/plain": [
       "<Figure size 432x288 with 1 Axes>"
      ]
     },
     "metadata": {
      "needs_background": "light"
     },
     "output_type": "display_data"
    },
    {
     "name": "stdout",
     "output_type": "stream",
     "text": [
      "                 error\n",
      "distribución          \n",
      "dweibull      0.217483\n",
      "crystalball   0.230849\n",
      "exponnorm     0.230856\n",
      "erlang        0.236539\n",
      "chi           0.237662\n",
      "chi2          0.250219\n",
      "cosine        0.267124\n",
      "dgamma        0.286897\n",
      "exponpow       1.24832\n",
      "expon          1.66134\n"
     ]
    }
   ],
   "source": [
    "prueba_dist(edad, 20)"
   ]
  },
  {
   "cell_type": "markdown",
   "metadata": {},
   "source": [
    "> Se puede observar que la distribución que presenta un menor error es **dweibull.**\n",
    "\n",
    "> Se procede a hacer la pueba *Quartil Quartil* para la función de distribición que tuvo menos error."
   ]
  },
  {
   "cell_type": "code",
   "execution_count": 142,
   "metadata": {},
   "outputs": [
    {
     "data": {
      "image/png": "[encoded data removed]",
      "text/plain": [
       "<Figure size 576x720 with 2 Axes>"
      ]
     },
     "metadata": {
      "needs_background": "light"
     },
     "output_type": "display_data"
    }
   ],
   "source": [
    "q_q(edad, \"dweibull\")"
   ]
  },
  {
   "cell_type": "markdown",
   "metadata": {},
   "source": [
    "> Observando la prueba *Quartil Quartil*, se puede ver como en efecto, la distribución **dweibull** se ajusta muy bien a los datos, los puntos se acoplan casi perfectamente a la línea. "
   ]
  },
  {
   "cell_type": "code",
   "execution_count": 100,
   "metadata": {},
   "outputs": [
    {
     "name": "stdout",
     "output_type": "stream",
     "text": [
      "{'bandwidth': 2.0}\n"
     ]
    }
   ],
   "source": [
    "grid = GridSearchCV(KernelDensity(),\n",
    "                    {'bandwidth': np.linspace(2, 100, 30)},\n",
    "                    cv=50) # 20-fold cross-validation\n",
    "grid.fit(edad[:, None])\n",
    "print(grid.best_params_)"
   ]
  },
  {
   "cell_type": "code",
   "execution_count": 147,
   "metadata": {},
   "outputs": [
    {
     "data": {
      "text/plain": [
       "<matplotlib.legend.Legend at 0x7fe7674bffd0>"
      ]
     },
     "execution_count": 147,
     "metadata": {},
     "output_type": "execute_result"
    },
    {
     "data": {
      "image/png": "[encoded data removed]",
      "text/plain": [
       "<Figure size 432x288 with 1 Axes>"
      ]
     },
     "metadata": {
      "needs_background": "light"
     },
     "output_type": "display_data"
    }
   ],
   "source": [
    "# KDE: Estimar el bandwith correcto con una función para optimizar el proceso\n",
    "fig, ax = plt.subplots()\n",
    "for bandwidth in [2,3,5, 15.5172]:\n",
    "    ax.plot(np.linspace(0,211,15), kde_sklearn(edad, np.linspace(0,211,15), bandwidth=bandwidth),\n",
    "            label='bw={0}'.format(bandwidth), linewidth=3, alpha=0.7)\n",
    "ax.hist(edad, 15, fc='gray', histtype='stepfilled', alpha=0.3, density=True)\n",
    "ax.legend(loc='upper left')"
   ]
  },
  {
   "cell_type": "code",
   "execution_count": 102,
   "metadata": {},
   "outputs": [
    {
     "data": {
      "image/png": "[encoded data removed]",
      "text/plain": [
       "<Figure size 432x288 with 1 Axes>"
      ]
     },
     "metadata": {
      "needs_background": "light"
     },
     "output_type": "display_data"
    },
    {
     "name": "stdout",
     "output_type": "stream",
     "text": [
      "media mu =47.542800, desviación estándar muestral =8.832178\n",
      "53.510893246187365 9.427477516153495\n"
     ]
    }
   ],
   "source": [
    "# Reducción de varianza y Montecarlo\n",
    "N=10000\n",
    "\n",
    "f_1=kde_sklearn_mod(edad, 2)\n",
    "proba = f_1(np.arange(0,191,.4))\n",
    "f_acum = proba.cumsum()\n",
    "\n",
    "# Utilizamos el método estratificado\n",
    "u = muestreo_est(N)\n",
    "funcion2 = lambda u: (generador_vad(f_acum, edad, N))\n",
    "o=funcion2(u).values\n",
    "\n",
    "# Reducción por complementarios\n",
    "\n",
    "complements=complementarios_1(N)\n",
    "funcion2_1 = lambda u: (generador_vad(f_acum, edad, N))\n",
    "o_2=funcion2(u).values\n",
    "\n",
    "J = 20  # Cantidad de particiones del histograma\n",
    "\n",
    "y, x, _ = plt.hist(o, J, density=True)\n",
    "plt.show()\n",
    "\n",
    "# Se obvia el último valor de x para obtener exactamente J muestras de x\n",
    "x = x[:-1] \n",
    "\n",
    "# Media y desviación estándar muestral\n",
    "mu = np.mean(o)\n",
    "sigma = np.std(o)\n",
    "print('media mu =%f, desviación estándar muestral =%f'%(mu,sigma))\n",
    "print(edad.mean(), edad.std())"
   ]
  },
  {
   "cell_type": "code",
   "execution_count": 103,
   "metadata": {},
   "outputs": [
    {
     "data": {
      "text/plain": [
       "(47.5028, 47.5428, 53.510893246187365)"
      ]
     },
     "execution_count": 103,
     "metadata": {},
     "output_type": "execute_result"
    }
   ],
   "source": [
    "o_2.mean(),o.mean(), edad.mean()"
   ]
  },
  {
   "cell_type": "code",
   "execution_count": 104,
   "metadata": {},
   "outputs": [
    {
     "data": {
      "image/png": "[encoded data removed]",
      "text/plain": [
       "<Figure size 432x288 with 1 Axes>"
      ]
     },
     "metadata": {
      "needs_background": "light"
     },
     "output_type": "display_data"
    }
   ],
   "source": [
    "# Comparamos el histograma de \"o\" (10000 simulaciones del ataque, en función de su distribución de probabilidad)\n",
    "plt.hist(o, bins=11, density = True, color = 'orange',label='Histgrama')\n",
    "plt.plot(np.arange(0,211,10),f_1(np.arange(0,211,10)),label='Función de distribución')\n",
    "plt.legend()\n",
    "plt.show()"
   ]
  },
  {
   "cell_type": "code",
   "execution_count": 105,
   "metadata": {},
   "outputs": [
    {
     "name": "stdout",
     "output_type": "stream",
     "text": [
      "Valor de chi cuadrado teorico  =  25.379802126513642\n",
      "Valor de chi cuadrado librería =  Power_divergenceResult(statistic=25.379802126513642, pvalue=0.14841668813401407)\n",
      "Estadístico de chi_cuadrado =  26.29622760486423\n",
      "Media muestral =  47.5428 \n",
      "Desviación estándar muestral =  8.832177996394774\n"
     ]
    }
   ],
   "source": [
    "# Nombramos la distribución y realizamos la prueba de chi2, prueba de hipótesis de que la distribución\n",
    "# es exponnorm\n",
    "dist = \"exponnorm\"\n",
    "pi = getattr(st, dist).pdf(x, *getattr(st, dist).fit(o))\n",
    "\n",
    "# Cálculo de la esperanza usando la expresión teórica\n",
    "Ei = x*pi\n",
    "\n",
    "# Cálculo teórico de la chi cuadrada\n",
    "x2 = np.sum(list(map(lambda Ei, obs_i:(obs_i - Ei)**2 / Ei, Ei, y)))\n",
    "print('Valor de chi cuadrado teorico  = ', x2)\n",
    "\n",
    "# Cálculo usando la librería estadística de la chi cuadrada\n",
    "X2 = st.chisquare(y, Ei)\n",
    "print('Valor de chi cuadrado librería = ', X2)\n",
    "\n",
    "# Cálculo de Grados de libertad del estadístico\n",
    "p = len(getattr(st, dist).fit(o)) # Parámetros estimados con los datos\n",
    "m = J-p-1 # grados de libertad\n",
    "\n",
    "Chi_est = st.chi2.ppf(q=0.95, df=m)\n",
    "print('Estadístico de chi_cuadrado = ', Chi_est)\n",
    "print('Media muestral = ', mu, '\\nDesviación estándar muestral = ', sigma)"
   ]
  },
  {
   "cell_type": "code",
   "execution_count": 68,
   "metadata": {},
   "outputs": [
    {
     "name": "stdout",
     "output_type": "stream",
     "text": [
      "La prueba de hipótesis arroja como resultado\n",
      " Ttest_1sampResult(statistic=-75.44646859692801, pvalue=0.0)\n",
      "Cálculo del estadístico de prueba teórico= -75.50010988958928\n",
      "Región de rechazo = (t<-0.83505218444221) U (t>0.83505218444221)\n"
     ]
    }
   ],
   "source": [
    "# Otra prueba de hipótesis, con la media simulando a que es 80\n",
    "media = edad.mean()\n",
    "sd = edad.std()\n",
    "N = len(edad)\n",
    "\n",
    "# Nivel de confianza\n",
    "confianza = 0.95\n",
    "\n",
    "# Datos reales\n",
    "X = edad\n",
    "\n",
    "# Hipótesis nula\n",
    "media2 = 80\n",
    "\n",
    "# Realizamos la prueba de hipótesis para H0= mu=media2\n",
    "ho = st.ttest_1samp(X, media2)\n",
    "print('La prueba de hipótesis arroja como resultado\\n',ho)\n",
    "\n",
    "# Calculamos el estadístico normalizado\n",
    "t = (np.mean(X) - media2)/(np.std(X) / np.sqrt(N))\n",
    "print('Cálculo del estadístico de prueba teórico=', t)\n",
    "\n",
    "# Cálculo de la región de rechazo\n",
    "confianza_ph = 0.05\n",
    "cuantil = st.t(N-1).cdf(1-confianza_ph/2)\n",
    "print(f'Región de rechazo = (t<{-cuantil}) U (t>{cuantil})')"
   ]
  },
  {
   "cell_type": "code",
   "execution_count": 106,
   "metadata": {},
   "outputs": [
    {
     "name": "stdout",
     "output_type": "stream",
     "text": [
      "Con una confianza de 0.95 la media estará en el intervalo t,\n",
      " (52.899905462211464, 54.121881030163266)\n",
      "Media calculada 53.510893246187365\n"
     ]
    },
    {
     "data": {
      "text/plain": [
       "47.5428"
      ]
     },
     "execution_count": 106,
     "metadata": {},
     "output_type": "execute_result"
    }
   ],
   "source": [
    "# Nivel de confianza, y su intérvalo.\n",
    "\n",
    "# Parámetros de los datos reales\n",
    "confianza = .95\n",
    "media = edad.mean()\n",
    "sd = edad.std()\n",
    "\n",
    "# Intervalo de confianza usando t-student\n",
    "i1 = st.t.interval(confianza, len(edad)-1, loc=np.mean(edad), scale=st.sem(edad))\n",
    "\n",
    "print('Con una confianza de %2.2f la media estará en el intervalo t,\\n %s' %(confianza,i1))\n",
    "print('Media calculada' ,np.mean(edad))\n",
    "\n",
    "o.mean()"
   ]
  },
  {
   "cell_type": "markdown",
   "metadata": {},
   "source": [
    "## 1.8 Conclusiones"
   ]
  },
  {
   "cell_type": "code",
   "execution_count": null,
   "metadata": {},
   "outputs": [],
   "source": []
  },
  {
   "cell_type": "markdown",
   "metadata": {},
   "source": [
    "## Referencias"
   ]
  },
  {
   "cell_type": "markdown",
   "metadata": {},
   "source": [
    "> Valle Muñoz A. (2021). Edad. octubre 19, 2021. de *Fundación Española del Corazón*. sitio web: https://fundaciondelcorazon.com/prevencion/marcadores-de-riesgo/edad.html\n",
    "\n",
    "> Valle Muñoz A. (2021). Hipertensión. octubre 19, 2021. de *Fundación Española del Corazón*. sitio web: https://fundaciondelcorazon.com/prevencion/riesgo-cardiovascular/hipertension-tension-alta.html\n",
    "\n",
    "> Valle Muñoz A. (2021). Colesterol y Riesgo Cardiovascular. octubre 19, 2021. de *Fundación Española del Corazón*. sitio web: https://fundaciondelcorazon.com/prevencion/riesgo-cardiovascular/colesterol.html\n",
    "\n",
    "> Valle Muñoz A. (2021). Frecuencia Cardiaca. octubre 19, 2021. de *Fundación Española del Corazón*. sitio web: https://fundaciondelcorazon.com/prevencion/riesgo-cardiovascular/frecuencia-cardiaca.html"
   ]
  },
  {
   "cell_type": "code",
   "execution_count": null,
   "metadata": {},
   "outputs": [],
   "source": []
  }
 ],
 "metadata": {
  "kernelspec": {
   "display_name": "Python 3",
   "language": "python",
   "name": "python3"
  },
  "language_info": {
   "codemirror_mode": {
    "name": "ipython",
    "version": 3
   },
   "file_extension": ".py",
   "mimetype": "text/x-python",
   "name": "python",
   "nbconvert_exporter": "python",
   "pygments_lexer": "ipython3",
   "version": "3.8.3"
  }
 },
 "nbformat": 4,
 "nbformat_minor": 4
}
