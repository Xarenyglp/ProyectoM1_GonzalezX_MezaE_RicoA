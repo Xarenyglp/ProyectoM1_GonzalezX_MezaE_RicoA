{
 "cells": [
  {
   "cell_type": "markdown",
   "metadata": {},
   "source": [
    "<img style=\"float: left; margin: 30px 15px 15px 15px;\" src=\"https://pngimage.net/wp-content/uploads/2018/06/logo-iteso-png-5.png\" width=\"300\" height=\"500\" /> \n",
    "    \n",
    "    \n",
    "### <font color='navy'> Simulación de procesos financieros. \n",
    "\n",
    "**Nombres:** Xareny González,  Estefanía Meza, Alejandra Rico\n",
    "\n",
    "**Fecha:** 14 de octubre del 2021.\n",
    "\n",
    "**Expediente** : 720811, 729930, 720838.\n",
    "**Profesor:** Oscar David Jaramillo Zuluaga.\n",
    "    \n",

    "**Link Github**: [Link con el enlace del repositorio del creador del proyecto](https://github.com/Xarenyglp/ProyectoM1_GonzalezX_MezaE_RicoA)\n",

    "\n",
    "# Proyecto TEMA 1"
   ]
  },
  {
   "cell_type": "markdown",
   "metadata": {},
   "source": [

    "## 1.1 Causas de Enfermedades Cardiacas"

   ]
  },
  {
   "cell_type": "markdown",
   "metadata": {},
   "source": [
 
    "> En este proyecto se buscará simular en qué casos las personas son más propensas a sufrir de una enferemdad cardiaca."
   ]
  },
  {
   "cell_type": "markdown",
   "metadata": {},
   "source": [
    "## 1.2 Objetivos"

   ]
  },
  {
   "cell_type": "markdown",
   "metadata": {},
   "source": [
    "### Objetivo General"
   ]
  },
  {
   "cell_type": "markdown",
   "metadata": {},
   "source": [

    "> A lo largo del proyecto se pretendrá encontrar qué causas provocan que tanto hombres y mujeres sean más propensos a desarrollar una enfermedad cardiaca. "

   ]
  },
  {
   "cell_type": "markdown",
   "metadata": {},
   "source": [
    "### Objetivos Específicos"
   ]
  },
  {
   "cell_type": "markdown",
   "metadata": {},
   "source": [

    "> Se comparará al sexo masculino y femenino en las causas que esta base de datos contiene:\n",
    "- Simular la probabilidad de casos en donde hombres se ven más afectados.\n",
    "- Simular la probabilidad de casos en donde las mujeres se ven más afectadas."
   ]
  },
  {
   "cell_type": "markdown",
   "metadata": {},
   "source": [
    "> Datos de la base de datos: \n",
    ">* **Age:** edad \n",
    ">* **Sex:** sexo \n",
    ">* **ChestPainType:** tipo de dolor de pecho (*TA:* angina típica, *ATA:* angina atípica, *NAP:* dolor no anginal, *ASY:* asintomático)\n",
    ">* **Resting BP:** presión arterial en reposo (mm Hg)\n",
    ">* **Cholesterol:** colesterol (mm/dl)\n",
    ">* **Fasting BS:** azúcar en sangre en ayunas (1: si BS en ayunas> 120 mg/dl, 0: en caso contrario)\n",
    ">* **Resting ECG:** resultados de electrocardiograma en reposo (*Normal:* Normal, *ST:* con anomalía de la onda ST-T, inversiones de la onda T y/o elevación o depresión del ST> 0.05 mV, *HVI:* muestra una hipertrofia ventricular izquierda probable o definitiva según los criterios de estes)\n",
    ">* **MaxHR:** frecuencia cardíaca máxima alcanzada (Valor numérico entre 60 y 202)\n",
    ">* **ExerciseAngina:** angina inducida por el ejercicio (Y: Sí, N: No)\n",
    ">* **Oldpeak:** oldpeak = ST (Valor numérico medido en depresión)\n",
    "> * **ST_Slope:** pendiente del segmento ST del ejercicio pico (*Up:* uploping, *Flat:* flat, *Down:* downsloping)\n",
    ">* **HeartDisease:** clase de salida (1: enfermedad cardíaca, 0: normal)\n",

    "\n",
    "Referencia: https://www.kaggle.com/fedesoriano/heart-failure-prediction"
   ]
  },
  {
   "cell_type": "markdown",
   "metadata": {},
   "source": [

    "## 1.3 Definición del problema"

   ]
  },
  {
   "cell_type": "markdown",
   "metadata": {},
   "source": [

    "> Las enfermedades cardiovasculares (ECV) son la principal causa de muerte a nivel mundial, cobrando un estimado de 17,9 millones de vidas cada año, lo que representa el 31% de todas las muertes en todo el mundo. Cuatro de cada 5 muertes por ECV se deben a ataques cardíacos y accidentes cerebrovasculares, y un tercio de estas muertes ocurren prematuramente en personas menores de 70 años. La insuficiencia cardíaca es un evento común causado por las ECV y este conjunto de datos contiene 11 características que pueden usarse para predecir una posible enfermedad cardíaca.\n",
    "\n",
    "> Las personas con enfermedad cardiovascular o que se encuentran en alto riesgo cardiovascular (debido a la presencia de uno o más factores de riesgo como hipertensión, diabetes, hiperlipidemia o enfermedad ya establecida) necesitan una detección y manejo precoces donde un modelo de aprendizaje automático puede ser de gran ayuda."
   ]
  },
  {
   "cell_type": "markdown",
   "metadata": {},
   "source": [
    "Referencia: https://www.paho.org/es/temas/enfermedades-cardiovasculares"
   ]
  },
  {
   "cell_type": "markdown",
   "metadata": {},
   "source": [
    "## 1.4 Nodos y variables que se decidieron simular y porqué"
   ]
  },
  {
   "cell_type": "markdown",
   "metadata": {},
   "source": [
    "> Para el análisis de esta base de datos nos enfocaremos en las siguientes variables, las cuales consideramos son las más significativas y marcan una diferencia más generalizada en la población:\n",
    "* **Age:** edad\n",
    "* **Sex:** sexo\n",
    "* **ChestPainType:** tipo de dolor de pecho\n",
    "* **Cholesterol:** colesterol\n",
    "* **Resting BP:** Presión alta en reposo\n",
    "* **MaxHR:** frecuencia cardiaca máxima\n"
   ]
  },
  {
   "cell_type": "markdown",
   "metadata": {},
   "source": [
    "<img src=\"DF.jpg\">"
   ]
  },
  {
   "cell_type": "markdown",
   "metadata": {},
   "source": [
    "## 1.5 Definición de hipótesis y supuestos"

   ]
  },
  {
   "cell_type": "markdown",
   "metadata": {},
   "source": [

    "### Hipótesis"

   ]
  },
  {
   "cell_type": "code",

   "execution_count": null,
   "metadata": {},
   "outputs": [],
   "source": []
  },
  {
   "cell_type": "markdown",
   "metadata": {},
   "source": [
    "### Supuestos"

   ]
  },
  {
   "cell_type": "code",

   "execution_count": null,
   "metadata": {},
   "outputs": [],
   "source": []
  },
  {
   "cell_type": "markdown",
   "metadata": {},
   "source": [
    "## 1.6 Obtención de la base de datos"

   ]
  },
  {
   "cell_type": "code",

   "execution_count": 1,
   "metadata": {},
   "outputs": [],
   "source": [
    "import matplotlib.pyplot as plt\n",
    "import numpy as np\n",
    "import pandas as pd\n",
    "from sklearn.neighbors import KernelDensity\n",
    "from scipy.stats import gaussian_kde\n",
    "from statsmodels.nonparametric.kde import KDEUnivariate\n",
    "from statsmodels.nonparametric.kernel_density import KDEMultivariate\n",
    "import scipy.stats as st\n",
    "import statsmodels.api as sm \n",
    "from sklearn.model_selection import GridSearchCV"
   ]
  },
  {
   "cell_type": "code",
   "execution_count": 2,

   "metadata": {},
   "outputs": [
    {
     "data": {

      "image/png": "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\n",
      "text/plain": [
       "<Figure size 432x288 with 1 Axes>"
      ]
     },
     "metadata": {
      "needs_background": "light"
     },
     "output_type": "display_data"
    },
    {
     "data": {
      "image/png": "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\n",
      "text/plain": [
       "<Figure size 432x288 with 1 Axes>"
      ]
     },
     "metadata": {
      "needs_background": "light"
     },
     "output_type": "display_data"
    },
    {
     "data": {
      "image/png": "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\n",
      "text/plain": [
       "<Figure size 432x288 with 1 Axes>"
      ]
     },
     "metadata": {
      "needs_background": "light"
     },
     "output_type": "display_data"
    },
    {
     "data": {
      "image/png": "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\n",
      "text/plain": [
       "<Figure size 432x288 with 1 Axes>"
      ]
     },
     "metadata": {
      "needs_background": "light"
     },
     "output_type": "display_data"
    },
    {
     "data": {
      "image/png": "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\n",
      "text/plain": [
       "<Figure size 432x288 with 1 Axes>"
      ]
     },
     "metadata": {
      "needs_background": "light"
     },
     "output_type": "display_data"
    },
    {
     "data": {
      "image/png": "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\n",
      "text/plain": [
       "<Figure size 432x288 with 1 Axes>"
      ]
     },
     "metadata": {
      "needs_background": "light"
     },
     "output_type": "display_data"
    },
    {
     "data": {

      "text/html": [
       "<div>\n",
       "<style scoped>\n",
       "    .dataframe tbody tr th:only-of-type {\n",
       "        vertical-align: middle;\n",
       "    }\n",
       "\n",
       "    .dataframe tbody tr th {\n",
       "        vertical-align: top;\n",
       "    }\n",
       "\n",
       "    .dataframe thead th {\n",
       "        text-align: right;\n",
       "    }\n",
       "</style>\n",
       "<table border=\"1\" class=\"dataframe\">\n",
       "  <thead>\n",
       "    <tr style=\"text-align: right;\">\n",
       "      <th></th>\n",
       "      <th>Age</th>\n",
       "      <th>Sex</th>\n",
       "      <th>ChestPainType</th>\n",
       "      <th>RestingBP</th>\n",
       "      <th>Cholesterol</th>\n",
       "      <th>FastingBS</th>\n",
       "      <th>RestingECG</th>\n",
       "      <th>MaxHR</th>\n",
       "      <th>ExerciseAngina</th>\n",
       "      <th>Oldpeak</th>\n",
       "      <th>ST_Slope</th>\n",
       "      <th>HeartDisease</th>\n",
       "    </tr>\n",
       "  </thead>\n",
       "  <tbody>\n",
       "    <tr>\n",
       "      <th>0</th>\n",

       "      <td>40</td>\n",
       "      <td>M</td>\n",
       "      <td>ATA</td>\n",
       "      <td>140</td>\n",
       "      <td>289</td>\n",
       "      <td>0</td>\n",
       "      <td>Normal</td>\n",
       "      <td>172</td>\n",
       "      <td>N</td>\n",
       "      <td>0.0</td>\n",
       "      <td>Up</td>\n",

       "      <td>0</td>\n",
       "    </tr>\n",
       "    <tr>\n",
       "      <th>1</th>\n",

       "      <td>49</td>\n",
       "      <td>F</td>\n",
       "      <td>NAP</td>\n",
       "      <td>160</td>\n",
       "      <td>180</td>\n",
       "      <td>0</td>\n",
       "      <td>Normal</td>\n",
       "      <td>156</td>\n",
       "      <td>N</td>\n",
       "      <td>1.0</td>\n",
       "      <td>Flat</td>\n",

       "      <td>1</td>\n",
       "    </tr>\n",
       "    <tr>\n",
       "      <th>2</th>\n",
 
       "      <td>37</td>\n",
       "      <td>M</td>\n",
       "      <td>ATA</td>\n",
       "      <td>130</td>\n",
       "      <td>283</td>\n",
       "      <td>0</td>\n",
       "      <td>ST</td>\n",
       "      <td>98</td>\n",
       "      <td>N</td>\n",
       "      <td>0.0</td>\n",
       "      <td>Up</td>\n",

       "      <td>0</td>\n",
       "    </tr>\n",
       "    <tr>\n",
       "      <th>3</th>\n",
 
       "      <td>48</td>\n",
       "      <td>F</td>\n",
       "      <td>ASY</td>\n",
       "      <td>138</td>\n",
       "      <td>214</td>\n",
       "      <td>0</td>\n",
       "      <td>Normal</td>\n",
       "      <td>108</td>\n",
       "      <td>Y</td>\n",
       "      <td>1.5</td>\n",
       "      <td>Flat</td>\n",

       "      <td>1</td>\n",
       "    </tr>\n",
       "    <tr>\n",
       "      <th>4</th>\n",
 
       "      <td>54</td>\n",
       "      <td>M</td>\n",
       "      <td>NAP</td>\n",
       "      <td>150</td>\n",
       "      <td>195</td>\n",
       "      <td>0</td>\n",
       "      <td>Normal</td>\n",
       "      <td>122</td>\n",
       "      <td>N</td>\n",
       "      <td>0.0</td>\n",
       "      <td>Up</td>\n",

       "      <td>0</td>\n",
       "    </tr>\n",
       "  </tbody>\n",
       "</table>\n",
       "</div>"
      ],
      "text/plain": [
 
       "   Age Sex ChestPainType  RestingBP  Cholesterol  FastingBS RestingECG  MaxHR  \\\n",
       "0   40   M           ATA        140          289          0     Normal    172   \n",
       "1   49   F           NAP        160          180          0     Normal    156   \n",
       "2   37   M           ATA        130          283          0         ST     98   \n",
       "3   48   F           ASY        138          214          0     Normal    108   \n",
       "4   54   M           NAP        150          195          0     Normal    122   \n",
       "\n",
       "  ExerciseAngina  Oldpeak ST_Slope  HeartDisease  \n",
       "0              N      0.0       Up             0  \n",
       "1              N      1.0     Flat             1  \n",
       "2              N      0.0       Up             0  \n",
       "3              Y      1.5     Flat             1  \n",
       "4              N      0.0       Up             0  "
      ]
     },
     "execution_count": 2,

     "metadata": {},
     "output_type": "execute_result"
    }
   ],
   "source": [

    "import warnings\n",
    "warnings.filterwarnings(\"ignore\")\n",
    "\n",
    "data = pd.read_csv('heart.csv').dropna()\n",
    "\n",
    "nodos=['Age','Sex','ChestPainType','Cholesterol', 'RestingBP', 'MaxHR']\n",
    "\n",
    "\n",
    "for i in range(6):\n",
    "    plt.hist(data[nodos[i]],bins=20,label=nodos[i])\n",
    "    plt.legend()\n",
    "    plt.show()\n",
    "data.head()"

   ]
  },
  {
   "cell_type": "code",
   ale
   "execution_count": null,
   "metadata": {},
   "outputs": [],
   "source": []

  }
 ],
 "metadata": {
  "kernelspec": {
   "display_name": "Python 3",
   "language": "python",
   "name": "python3"
  },
  "language_info": {
   "codemirror_mode": {
    "name": "ipython",
    "version": 3
   },
   "file_extension": ".py",
   "mimetype": "text/x-python",
   "name": "python",
   "nbconvert_exporter": "python",
   "pygments_lexer": "ipython3",
   "version": "3.8.3"
  }
 },
 "nbformat": 4,
 "nbformat_minor": 4
}
