{
 "cells": [
  {
   "cell_type": "markdown",
   "metadata": {},
   "source": [
    "<img style=\"float: left; margin: 30px 15px 15px 15px;\" src=\"https://pngimage.net/wp-content/uploads/2018/06/logo-iteso-png-5.png\" width=\"300\" height=\"500\" /> \n",
    "    \n",
    "    \n",
    "### <font color='navy'> Simulación de procesos financieros. \n",
    "\n",
    "**Nombres:** Xareny González,  Estefanía Meza, Alejandra Rico\n",
    "\n",
    "**Fecha:** 14 de octubre del 2021.\n",
    "\n",
    "**Expediente** : 720811, 729930, 720838.\n",
    "    \n",
    "**Profesor:** Oscar David Jaramillo Zuluaga.\n",
    "    \n",
    "**Link Github**: [Link con el enlace del repositorio del creador del proyecto](https://github.com/Xarenyglp/ProyectoM1_GonzalezX_MezaE_RicoA)\n",
    "\n",
    "# Proyecto TEMA 1"
   ]
  },
  {
   "cell_type": "markdown",
   "metadata": {},
   "source": [
    "## 1.1 Causas de Enfermedades Cardiovasculares"
   ]
  },
  {
   "cell_type": "markdown",
   "metadata": {},
   "source": [
    "<img src=\"cora.jpg\">"
   ]
  },
  {
   "cell_type": "markdown",
   "metadata": {},
   "source": [
    "## 1.2 Objetivos"
   ]
  },
  {
   "cell_type": "markdown",
   "metadata": {},
   "source": [
    "### Objetivo General"
   ]
  },
  {
   "cell_type": "markdown",
   "metadata": {},
   "source": [
    "> A lo largo del proyecto se pretendrá encontrar qué causas provocan que las personas sean más propensas a desarrollar una enfermedad cardiovascular. "
   ]
  },
  {
   "cell_type": "markdown",
   "metadata": {},
   "source": [
    "### Objetivos Específicos"
   ]
  },
  {
   "cell_type": "markdown",
   "metadata": {},
   "source": [
    "> Simular la probabilidad de casos en donde las personas sufran de una enfermedad cariovascular considerando los siguientes datos:\n",
    "\n",
    ">* **Age:** edad \n",
    ">* **Sex:** sexo \n",
    ">* **ChestPainType:** tipo de dolor de pecho (*TA:* angina típica, *ATA:* angina atípica, *NAP:* dolor no anginal, *ASY:* asintomático)\n",
    ">* **Resting BP:** presión arterial en reposo (mm Hg)\n",
    ">* **Cholesterol:** colesterol (mm/dl)\n",
    ">* **Fasting BS:** azúcar en sangre en ayunas (1: si BS en ayunas> 120 mg/dl, 0: en caso contrario)\n",
    ">* **Resting ECG:** resultados de electrocardiograma en reposo (*Normal:* Normal, *ST:* con anomalía de la onda ST-T, inversiones de la onda T y/o elevación o depresión del ST> 0.05 mV, *HVI:* muestra una hipertrofia ventricular izquierda probable o definitiva según los criterios de estes)\n",
    ">* **MaxHR:** frecuencia cardíaca máxima alcanzada (Valor numérico entre 60 y 202)\n",
    ">* **ExerciseAngina:** angina inducida por el ejercicio (Y: Sí, N: No)\n",
    ">* **Oldpeak:** oldpeak = ST (Valor numérico medido en depresión)\n",
    "> * **ST_Slope:** pendiente del segmento ST del ejercicio pico (*Up:* uploping, *Flat:* flat, *Down:* downsloping)\n",
    ">* **HeartDisease:** clase de salida (1: enfermedad cardíaca, 0: normal)"
   ]
  },
  {
   "cell_type": "markdown",
   "metadata": {},
   "source": [
    "Referencia: https://www.kaggle.com/fedesoriano/heart-failure-prediction"
   ]
  },
  {
   "cell_type": "markdown",
   "metadata": {},
   "source": [
    "## 1.3 Definición del problema"
   ]
  },
  {
   "cell_type": "markdown",
   "metadata": {},
   "source": [
    "> Las enfermedades cardiovasculares (ECV) son la principal causa de muerte a nivel mundial, cobrando un estimado de 17,9 millones de vidas cada año, lo que representa el 31% de todas las muertes en todo el mundo. Cuatro de cada 5 muertes por ECV se deben a ataques cardíacos y accidentes cerebrovasculares, y un tercio de estas muertes ocurren prematuramente en personas menores de 70 años. La insuficiencia cardíaca es un evento común causado por las ECV y este conjunto de datos contiene 11 características que pueden usarse para predecir una posible enfermedad cardíaca.\n",
    "\n",
    "> Las personas con enfermedad cardiovascular o que se encuentran en alto riesgo cardiovascular (debido a la presencia de uno o más factores de riesgo como hipertensión, diabetes, hiperlipidemia o enfermedad ya establecida) necesitan una detección y manejo precoces donde un modelo de aprendizaje automático puede ser de gran ayuda."
   ]
  },
  {
   "cell_type": "markdown",
   "metadata": {},
   "source": [
    "Referencia: https://www.paho.org/es/temas/enfermedades-cardiovasculares"
   ]
  },
  {
   "cell_type": "markdown",
   "metadata": {},
   "source": [
    "## 1.4 Nodos y variables que se decidieron simular y porqué"
   ]
  },
  {
   "cell_type": "markdown",
   "metadata": {},
   "source": [
    "> Para el análisis de esta base de datos nos enfocaremos en las siguientes variables, las cuales consideramos son las más significativas y marcan una diferencia más generalizada en la población:\n",
    "* **Age:** edad\n",
    "* **Cholesterol:** colesterol\n",
    "* **Resting BP:** Presión alta en reposo\n",
    "* **MaxHR:** frecuencia cardiaca máxima\n"
   ]
  },
  {
   "cell_type": "markdown",
   "metadata": {},
   "source": [
    "<img src=\"df.jpg\">"
   ]
  },
  {
   "cell_type": "markdown",
   "metadata": {},
   "source": [
    "## 1.5 Definición de hipótesis y supuestos"
   ]
  },
  {
   "cell_type": "markdown",
   "metadata": {},
   "source": [
    "### Hipótesis"
   ]
  },
  {
   "cell_type": "markdown",
   "metadata": {},
   "source": [
<<<<<<< HEAD
    "* El sexo más propenso a desarrollar una enfermedad cardíaca es el masculino.\n",
    "* El rango de edad para desarrollar una enfermedad cardíaca es entre los 55-70 años de edad.\n",
    "* Se puede saber con un rango de certeza si se desarrollará la enfermedad."
=======
    "* Las personas con una frecuencia cardíaca alta y colesterol alto son propensas a tener problemas cardiacos.\n",
    "\n",
    "* El rango de edad para desarrollar una enfermedad cardíaca es entre los 55-70 años de edad."
>>>>>>> main
   ]
  },
  {
   "cell_type": "markdown",
   "metadata": {},
   "source": [
    "### Supuestos"
   ]
  },
  {
   "cell_type": "markdown",
   "metadata": {},
   "source": [
<<<<<<< HEAD
    "* Los datos estan distribuidos de forma normal. \n",
    "* La probabilidad de desarrollar alguna enfermadad influye directamente con todos los síntomas planteados.\n"
=======
    "* Los datos estan distribuidos de forma normal.\n",
    "* La probabilidad de desarrollar alguna enfermadad influye directamente con todos los síntomas planteados."
>>>>>>> main
   ]
  },
  {
   "cell_type": "markdown",
   "metadata": {},
   "source": [
    "## 1.6 Obtención de la base de datos"
   ]
  },
  {
   "cell_type": "code",
<<<<<<< HEAD
   "execution_count": 1,
=======
<<<<<<< HEAD
<<<<<<< Updated upstream
   "execution_count": 71,
=======
   "execution_count": null,
>>>>>>> Stashed changes
=======
   "execution_count": 71,
>>>>>>> main
>>>>>>> main
   "metadata": {},
   "outputs": [],
   "source": [
    "import matplotlib.pyplot as plt\n",
    "import numpy as np\n",
    "import pandas as pd\n",
    "from sklearn.neighbors import KernelDensity\n",
    "from scipy.stats import gaussian_kde\n",
    "from statsmodels.nonparametric.kde import KDEUnivariate\n",
    "from statsmodels.nonparametric.kernel_density import KDEMultivariate\n",
    "import scipy.stats as st\n",
    "import statsmodels.api as sm \n",
    "from sklearn.model_selection import GridSearchCV\n",
    "import warnings\n",
    "warnings.filterwarnings(\"ignore\")"
   ]
  },
  {
   "cell_type": "code",
<<<<<<< HEAD
   "execution_count": 2,
=======
   "execution_count": 89,
>>>>>>> main
   "metadata": {},
   "outputs": [
    {
     "data": {
      "text/html": [
       "<div>\n",
       "<style scoped>\n",
       "    .dataframe tbody tr th:only-of-type {\n",
       "        vertical-align: middle;\n",
       "    }\n",
       "\n",
       "    .dataframe tbody tr th {\n",
       "        vertical-align: top;\n",
       "    }\n",
       "\n",
       "    .dataframe thead th {\n",
       "        text-align: right;\n",
       "    }\n",
       "</style>\n",
       "<table border=\"1\" class=\"dataframe\">\n",
       "  <thead>\n",
       "    <tr style=\"text-align: right;\">\n",
       "      <th></th>\n",
       "      <th>Age</th>\n",
       "      <th>Sex</th>\n",
       "      <th>ChestPainType</th>\n",
       "      <th>RestingBP</th>\n",
       "      <th>Cholesterol</th>\n",
       "      <th>FastingBS</th>\n",
       "      <th>RestingECG</th>\n",
       "      <th>MaxHR</th>\n",
       "      <th>ExerciseAngina</th>\n",
       "      <th>Oldpeak</th>\n",
       "      <th>ST_Slope</th>\n",
       "      <th>HeartDisease</th>\n",
       "    </tr>\n",
       "  </thead>\n",
       "  <tbody>\n",
       "    <tr>\n",
       "      <th>0</th>\n",
       "      <td>40</td>\n",
       "      <td>M</td>\n",
       "      <td>ATA</td>\n",
       "      <td>140</td>\n",
       "      <td>289</td>\n",
       "      <td>0</td>\n",
       "      <td>Normal</td>\n",
       "      <td>172</td>\n",
       "      <td>N</td>\n",
       "      <td>0.0</td>\n",
       "      <td>Up</td>\n",
       "      <td>0</td>\n",
       "    </tr>\n",
       "    <tr>\n",
       "      <th>1</th>\n",
       "      <td>49</td>\n",
       "      <td>F</td>\n",
       "      <td>NAP</td>\n",
       "      <td>160</td>\n",
       "      <td>180</td>\n",
       "      <td>0</td>\n",
       "      <td>Normal</td>\n",
       "      <td>156</td>\n",
       "      <td>N</td>\n",
       "      <td>1.0</td>\n",
       "      <td>Flat</td>\n",
       "      <td>1</td>\n",
       "    </tr>\n",
       "    <tr>\n",
       "      <th>2</th>\n",
       "      <td>37</td>\n",
       "      <td>M</td>\n",
       "      <td>ATA</td>\n",
       "      <td>130</td>\n",
       "      <td>283</td>\n",
       "      <td>0</td>\n",
       "      <td>ST</td>\n",
       "      <td>98</td>\n",
       "      <td>N</td>\n",
       "      <td>0.0</td>\n",
       "      <td>Up</td>\n",
       "      <td>0</td>\n",
       "    </tr>\n",
       "    <tr>\n",
       "      <th>3</th>\n",
       "      <td>48</td>\n",
       "      <td>F</td>\n",
       "      <td>ASY</td>\n",
       "      <td>138</td>\n",
       "      <td>214</td>\n",
       "      <td>0</td>\n",
       "      <td>Normal</td>\n",
       "      <td>108</td>\n",
       "      <td>Y</td>\n",
       "      <td>1.5</td>\n",
       "      <td>Flat</td>\n",
       "      <td>1</td>\n",
       "    </tr>\n",
       "    <tr>\n",
       "      <th>4</th>\n",
       "      <td>54</td>\n",
       "      <td>M</td>\n",
       "      <td>NAP</td>\n",
       "      <td>150</td>\n",
       "      <td>195</td>\n",
       "      <td>0</td>\n",
       "      <td>Normal</td>\n",
       "      <td>122</td>\n",
       "      <td>N</td>\n",
       "      <td>0.0</td>\n",
       "      <td>Up</td>\n",
       "      <td>0</td>\n",
       "    </tr>\n",
       "    <tr>\n",
       "      <th>...</th>\n",
       "      <td>...</td>\n",
       "      <td>...</td>\n",
       "      <td>...</td>\n",
       "      <td>...</td>\n",
       "      <td>...</td>\n",
       "      <td>...</td>\n",
       "      <td>...</td>\n",
       "      <td>...</td>\n",
       "      <td>...</td>\n",
       "      <td>...</td>\n",
       "      <td>...</td>\n",
       "      <td>...</td>\n",
       "    </tr>\n",
       "    <tr>\n",
       "      <th>913</th>\n",
       "      <td>45</td>\n",
       "      <td>M</td>\n",
       "      <td>TA</td>\n",
       "      <td>110</td>\n",
       "      <td>264</td>\n",
       "      <td>0</td>\n",
       "      <td>Normal</td>\n",
       "      <td>132</td>\n",
       "      <td>N</td>\n",
       "      <td>1.2</td>\n",
       "      <td>Flat</td>\n",
       "      <td>1</td>\n",
       "    </tr>\n",
       "    <tr>\n",
       "      <th>914</th>\n",
       "      <td>68</td>\n",
       "      <td>M</td>\n",
       "      <td>ASY</td>\n",
       "      <td>144</td>\n",
       "      <td>193</td>\n",
       "      <td>1</td>\n",
       "      <td>Normal</td>\n",
       "      <td>141</td>\n",
       "      <td>N</td>\n",
       "      <td>3.4</td>\n",
       "      <td>Flat</td>\n",
       "      <td>1</td>\n",
       "    </tr>\n",
       "    <tr>\n",
       "      <th>915</th>\n",
       "      <td>57</td>\n",
       "      <td>M</td>\n",
       "      <td>ASY</td>\n",
       "      <td>130</td>\n",
       "      <td>131</td>\n",
       "      <td>0</td>\n",
       "      <td>Normal</td>\n",
       "      <td>115</td>\n",
       "      <td>Y</td>\n",
       "      <td>1.2</td>\n",
       "      <td>Flat</td>\n",
       "      <td>1</td>\n",
       "    </tr>\n",
       "    <tr>\n",
       "      <th>916</th>\n",
       "      <td>57</td>\n",
       "      <td>F</td>\n",
       "      <td>ATA</td>\n",
       "      <td>130</td>\n",
       "      <td>236</td>\n",
       "      <td>0</td>\n",
       "      <td>LVH</td>\n",
       "      <td>174</td>\n",
       "      <td>N</td>\n",
       "      <td>0.0</td>\n",
       "      <td>Flat</td>\n",
       "      <td>1</td>\n",
       "    </tr>\n",
       "    <tr>\n",
       "      <th>917</th>\n",
       "      <td>38</td>\n",
       "      <td>M</td>\n",
       "      <td>NAP</td>\n",
       "      <td>138</td>\n",
       "      <td>175</td>\n",
       "      <td>0</td>\n",
       "      <td>Normal</td>\n",
       "      <td>173</td>\n",
       "      <td>N</td>\n",
       "      <td>0.0</td>\n",
       "      <td>Up</td>\n",
       "      <td>0</td>\n",
       "    </tr>\n",
       "  </tbody>\n",
       "</table>\n",
       "<p>918 rows × 12 columns</p>\n",
       "</div>"
      ],
      "text/plain": [
       "     Age Sex ChestPainType  RestingBP  Cholesterol  FastingBS RestingECG  \\\n",
       "0     40   M           ATA        140          289          0     Normal   \n",
       "1     49   F           NAP        160          180          0     Normal   \n",
       "2     37   M           ATA        130          283          0         ST   \n",
       "3     48   F           ASY        138          214          0     Normal   \n",
       "4     54   M           NAP        150          195          0     Normal   \n",
       "..   ...  ..           ...        ...          ...        ...        ...   \n",
       "913   45   M            TA        110          264          0     Normal   \n",
       "914   68   M           ASY        144          193          1     Normal   \n",
       "915   57   M           ASY        130          131          0     Normal   \n",
       "916   57   F           ATA        130          236          0        LVH   \n",
       "917   38   M           NAP        138          175          0     Normal   \n",
       "\n",
       "     MaxHR ExerciseAngina  Oldpeak ST_Slope  HeartDisease  \n",
       "0      172              N      0.0       Up             0  \n",
       "1      156              N      1.0     Flat             1  \n",
       "2       98              N      0.0       Up             0  \n",
       "3      108              Y      1.5     Flat             1  \n",
       "4      122              N      0.0       Up             0  \n",
       "..     ...            ...      ...      ...           ...  \n",
       "913    132              N      1.2     Flat             1  \n",
       "914    141              N      3.4     Flat             1  \n",
       "915    115              Y      1.2     Flat             1  \n",
       "916    174              N      0.0     Flat             1  \n",
       "917    173              N      0.0       Up             0  \n",
       "\n",
       "[918 rows x 12 columns]"
      ]
     },
<<<<<<< HEAD
     "execution_count": 2,
=======
     "execution_count": 89,
>>>>>>> main
     "metadata": {},
     "output_type": "execute_result"
    }
   ],
   "source": [
    "ecv = pd.read_csv('heart.csv').dropna()\n",
    "ecv"
   ]
  },
  {
   "cell_type": "code",
   "execution_count": 90,
   "metadata": {},
   "outputs": [
    {
     "data": {
      "text/html": [
       "<div>\n",
       "<style scoped>\n",
       "    .dataframe tbody tr th:only-of-type {\n",
       "        vertical-align: middle;\n",
       "    }\n",
       "\n",
       "    .dataframe tbody tr th {\n",
       "        vertical-align: top;\n",
       "    }\n",
       "\n",
       "    .dataframe thead th {\n",
       "        text-align: right;\n",
       "    }\n",
       "</style>\n",
       "<table border=\"1\" class=\"dataframe\">\n",
       "  <thead>\n",
       "    <tr style=\"text-align: right;\">\n",
       "      <th></th>\n",
       "      <th>Age</th>\n",
       "      <th>Cholesterol</th>\n",
       "      <th>RestingBP</th>\n",
       "      <th>MaxHR</th>\n",
       "    </tr>\n",
       "  </thead>\n",
       "  <tbody>\n",
       "    <tr>\n",
       "      <th>0</th>\n",
       "      <td>40</td>\n",
       "      <td>289</td>\n",
       "      <td>140</td>\n",
       "      <td>172</td>\n",
       "    </tr>\n",
       "    <tr>\n",
       "      <th>1</th>\n",
       "      <td>49</td>\n",
       "      <td>180</td>\n",
       "      <td>160</td>\n",
       "      <td>156</td>\n",
       "    </tr>\n",
       "    <tr>\n",
       "      <th>2</th>\n",
       "      <td>37</td>\n",
       "      <td>283</td>\n",
       "      <td>130</td>\n",
       "      <td>98</td>\n",
       "    </tr>\n",
       "    <tr>\n",
       "      <th>3</th>\n",
       "      <td>48</td>\n",
       "      <td>214</td>\n",
       "      <td>138</td>\n",
       "      <td>108</td>\n",
       "    </tr>\n",
       "    <tr>\n",
       "      <th>4</th>\n",
       "      <td>54</td>\n",
       "      <td>195</td>\n",
       "      <td>150</td>\n",
       "      <td>122</td>\n",
       "    </tr>\n",
       "    <tr>\n",
       "      <th>...</th>\n",
       "      <td>...</td>\n",
       "      <td>...</td>\n",
       "      <td>...</td>\n",
       "      <td>...</td>\n",
       "    </tr>\n",
       "    <tr>\n",
       "      <th>913</th>\n",
       "      <td>45</td>\n",
       "      <td>264</td>\n",
       "      <td>110</td>\n",
       "      <td>132</td>\n",
       "    </tr>\n",
       "    <tr>\n",
       "      <th>914</th>\n",
       "      <td>68</td>\n",
       "      <td>193</td>\n",
       "      <td>144</td>\n",
       "      <td>141</td>\n",
       "    </tr>\n",
       "    <tr>\n",
       "      <th>915</th>\n",
       "      <td>57</td>\n",
       "      <td>131</td>\n",
       "      <td>130</td>\n",
       "      <td>115</td>\n",
       "    </tr>\n",
       "    <tr>\n",
       "      <th>916</th>\n",
       "      <td>57</td>\n",
       "      <td>236</td>\n",
       "      <td>130</td>\n",
       "      <td>174</td>\n",
       "    </tr>\n",
       "    <tr>\n",
       "      <th>917</th>\n",
       "      <td>38</td>\n",
       "      <td>175</td>\n",
       "      <td>138</td>\n",
       "      <td>173</td>\n",
       "    </tr>\n",
       "  </tbody>\n",
       "</table>\n",
       "<p>918 rows × 4 columns</p>\n",
       "</div>"
      ],
      "text/plain": [
       "     Age  Cholesterol  RestingBP  MaxHR\n",
       "0     40          289        140    172\n",
       "1     49          180        160    156\n",
       "2     37          283        130     98\n",
       "3     48          214        138    108\n",
       "4     54          195        150    122\n",
       "..   ...          ...        ...    ...\n",
       "913   45          264        110    132\n",
       "914   68          193        144    141\n",
       "915   57          131        130    115\n",
       "916   57          236        130    174\n",
       "917   38          175        138    173\n",
       "\n",
       "[918 rows x 4 columns]"
      ]
     },
     "execution_count": 90,
     "metadata": {},
     "output_type": "execute_result"
    }
   ],
   "source": [
    "nodos = ['Age','Cholesterol', 'RestingBP', 'MaxHR']\n",
    "A= pd.DataFrame(ecv,columns=['Age'])\n",
    "C= pd.DataFrame(ecv,columns=['Cholesterol'])\n",
    "R= pd.DataFrame(ecv,columns=['RestingBP'])\n",
    "M= pd.DataFrame(ecv,columns=['MaxHR'])\n",
    "\n",
    "df_nodos=A.join(C).join(R).join(M)\n",
    "df_nodos"
   ]
  },
  {
   "cell_type": "code",
   "execution_count": 95,
   "metadata": {},
   "outputs": [
    {
     "data": {
      "image/png": "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\n",
      "text/plain": [
       "<Figure size 432x288 with 1 Axes>"
      ]
     },
     "metadata": {
      "needs_background": "light"
     },
     "output_type": "display_data"
    },
    {
     "data": {
      "image/png": "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\n",
      "text/plain": [
       "<Figure size 432x288 with 1 Axes>"
      ]
     },
     "metadata": {
      "needs_background": "light"
     },
     "output_type": "display_data"
    },
    {
     "data": {
      "image/png": "iVBORw0KGgoAAAANSUhEUgAAAXcAAAD4CAYAAAAXUaZHAAAABHNCSVQICAgIfAhkiAAAAAlwSFlzAAALEgAACxIB0t1+/AAAADh0RVh0U29mdHdhcmUAbWF0cGxvdGxpYiB2ZXJzaW9uMy4yLjIsIGh0dHA6Ly9tYXRwbG90bGliLm9yZy+WH4yJAAAS0klEQVR4nO3dfYxV9Z3H8fcXVGCV1SKorFhBgxtRyygTTbUajduWEhbtAwZjNhCN7BZNt93dpljThxBt7G672zXVGm0NtqEVrTYl7e5al9ptbLO0o8X6hAu2tI6wQLG2klYU+O4fc4a94gzzcJ9mfrxfyc0993fPuec7v3v4cO7v3HNuZCaSpLKMaXcBkqTGM9wlqUCGuyQVyHCXpAIZ7pJUoMPaXQDA5MmTc/r06e0uQ5JGlccee+w3mTmlr+dGRLhPnz6drq6udpchSaNKRPyqv+cclpGkAhnuklQgw12SCjQixtwlleP111+nu7ubV199td2lFGP8+PFMmzaNww8/fNDLGO6SGqq7u5uJEycyffp0IqLd5Yx6mcnOnTvp7u5mxowZg17OYRlJDfXqq69y7LHHGuwNEhEce+yxQ/4kZLhLajiDvbGG05+GuyQVyDF3SU117e0vNfT17lo2acB5xo4dy1lnncWePXuYMWMGX/va1zjmmGOGtJ7169ezZcsW5s2bB8CaNWt45plnWL58+bDqvvjii9m6dSsTJkxg9+7dfOQjH2Hp0qVAz4mcEydOZMyYMRx//PF89atf5YQTThjWenoZ7lKB6g3UwQToSDZhwgTWr18PwOLFi7ntttu48cYbh/Qa69evp6ura3+4L1iwgAULFtRV16pVq+js7OSll17i1FNPZcmSJRxxxBEAPPLII0yePJmPf/zjfOYzn+HWW2+ta10Oy0gq2tvf/nZefPFFAJ5//nnmzp3LnDlzuPDCC9mwYQMA999/P2eeeSazZ8/moosu4rXXXuOTn/wkq1evpqOjg9WrV7Ny5Uquv/56AJYsWcKHPvQhzj//fE455RS++c1vArBv3z6WLVvGGWecwfz585k3b97+52rt2rWLI488krFjx77puYsuuohNmzbV/Xe75y6NUI0ezjgU7d27l7Vr13LNNdcAsHTpUu644w5mzpzJunXrWLZsGd///vdZsWIFDz30ECeeeCIvv/wyRxxxBCtWrKCrq4svfvGLAKxcufINr71161YeffRRNmzYwIIFC/jABz7Agw8+yObNm3nyySfZvn07p59+OldfffX+Za666irGjRvHxo0b+cIXvtBnuH/nO9/hrLPOqvtvN9wlFeePf/wjHR0dbN68mTlz5vDOd76TXbt28eMf/5iFCxfun2/37t0AXHDBBSxZsoQrrriC973vfYNax+WXX86YMWOYNWsW27ZtA+DRRx9l4cKFjBkzhhNOOIFLLrnkDcv0Dsvs2LGD888/n7lz53LyyScDcMkllzB27Fje9ra3cdNNN9XdB4a7pOL0jrn/7ne/Y/78+dx2220sWbKEY445Zv9YfK077riDdevW8d3vfpeOjo4+5znQuHHj9k9n5hvuBzJlyhTOOecc1q1btz/ce8fcG8Uxd0nFOvroo7n11lv53Oc+x4QJE5gxYwb3338/0BPETzzxBNAzFn/eeeexYsUKJk+ezAsvvMDEiRN55ZVXhrS+d7zjHTzwwAPs27ePbdu28YMf/KDP+f7whz/ws5/9jFNPPbWuv+9g3HOX1FTt/ubN2WefzezZs7n33ntZtWoVH/zgB7npppt4/fXXWbRoEbNnz+ajH/0oGzduJDO59NJLmT17Nm9961u55ZZb6Ojo4IYbbhjUut7//vezdu1azjzzTE477TTOO+88jj766P3PX3XVVfu/CrlkyRLmzJnTrD+bGOzHiGbq7OxMf6xDeqN2HlCtJ5CfffZZTj/99AZWM7rs2rWLo446ip07d3Luuefyox/9qO7vrEPf/RoRj2VmZ1/zu+cuSQ00f/58Xn75ZV577TU+8YlPNCTYh8Nwl6QG6m+cvdU8oCqp4UbCcG9JhtOfhrukhho/fjw7d+404Buk93ru48ePH9JyAw7LRMRJwFeBE4B9wJ2Z+a8RMQlYDUwHNgNXZOZvq2VuAK4B9gIfysyHhlSVpFFr2rRpdHd3s2PHjnaXUozeX2IaisGMue8B/j4zH4+IicBjEfEwsARYm5m3RMRyYDnwsYiYBSwCzgD+DPjPiDgtM/cOqTJJo9Lhhx8+pF8MUnMMOCyTmVsz8/Fq+hXgWeBE4DLgnmq2e4DLq+nLgHszc3dm/hLYBJzb6MIlSf0b0ph7REwHzgbWAcdn5lbo+Q8AOK6a7UTghZrFuqu2A19raUR0RUSXH98kqbEGHe4RcRTwAPDhzPz9wWbto+1NR1Yy887M7MzMzilTpgy2DEnSIAwq3CPicHqCfVVmPlg1b4uIqdXzU4HtVXs3cFLN4tOALY0pV5I0GAOGe/T8MutXgGcz859rnloDLK6mFwPfrmlfFBHjImIGMBP4SeNKliQNZDDflrkA+CvgyYjovQ7mx4FbgPsi4hrg18BCgMx8OiLuA56h55s21/lNGUlqrQHDPTMfpe9xdIBL+1nmZuDmOuqSJNXBM1QlqUCGuyQVyHCXpAIZ7pJUIMNdkgpkuEtSgQx3SSqQ4S5JBTLcJalAhrskFchwl6QCGe6SVCDDXZIKZLhLUoEMd0kqkOEuSQUy3CWpQIa7JBXIcJekAhnuklQgw12SCmS4S1KBDHdJKpDhLkkFMtwlqUCGuyQVyHCXpAIZ7pJUIMNdkgpkuEtSgQx3SSqQ4S5JBTLcJalAhrskFchwl6QCGe6SVCDDXZIKdFi7C5A08lx7+0vDXvauZZMaWImGyz13SSrQgOEeEXdHxPaIeKqm7dMR8WJErK9u82qeuyEiNkXEcxHx7mYVLknq32D23FcCc/to/5fM7Khu/wYQEbOARcAZ1TK3R8TYRhUrSRqcAcM9M38IDHYA7jLg3szcnZm/BDYB59ZRnyRpGOoZc78+In5eDdu8pWo7EXihZp7uqu1NImJpRHRFRNeOHTvqKEOSdKDhhvuXgFOBDmAr8PmqPfqYN/t6gcy8MzM7M7NzypQpwyxDktSXYYV7Zm7LzL2ZuQ+4i/8feukGTqqZdRqwpb4SJUlDNaxwj4ipNQ/fC/R+k2YNsCgixkXEDGAm8JP6SpQkDdWAJzFFxDeAi4HJEdENfAq4OCI66Bly2Qz8NUBmPh0R9wHPAHuA6zJzb3NKlyT1Z8Bwz8wr+2j+ykHmvxm4uZ6iJEn18QxVSSqQ4S5JBTLcJalAhrskFchwl6QCGe6SVCDDXZIKZLhLUoEMd0kqkOEuSQUy3CWpQIa7JBXIcJekAhnuklQgw12SCmS4S1KBDHdJKpDhLkkFMtwlqUCGuyQVyHCXpAIZ7pJUIMNdkgpkuEtSgQx3SSqQ4S5JBTLcJalAhrskFchwl6QCGe6SVCDDXZIKZLhLUoEMd0kqkOEuSQUy3CWpQIe1uwCpZNfe/lK7S9Ahyj13SSqQ4S5JBTLcJalAA4Z7RNwdEdsj4qmatkkR8XBEbKzu31Lz3A0RsSkinouIdzercElS/waz574SmHtA23JgbWbOBNZWj4mIWcAi4IxqmdsjYmzDqpUkDcqA4Z6ZPwQOPOR/GXBPNX0PcHlN+72ZuTszfwlsAs5tUK2SpEEa7pj78Zm5FaC6P65qPxF4oWa+7qrtTSJiaUR0RUTXjh07hlmGJKkvjT6gGn20ZV8zZuadmdmZmZ1TpkxpcBmSdGgbbrhvi4ipANX99qq9GzipZr5pwJbhlydJGo7hhvsaYHE1vRj4dk37oogYFxEzgJnAT+orUZI0VANefiAivgFcDEyOiG7gU8AtwH0RcQ3wa2AhQGY+HRH3Ac8Ae4DrMnNvk2qXJPVjwHDPzCv7eerSfua/Gbi5nqIkSfXxDFVJKpDhLkkFMtwlqUCGuyQVyHCXpAIZ7pJUIMNdkgpkuEtSgQx3SSqQ4S5JBTLcJalAhrskFchwl6QCGe6SVKABL/krSUNx7e0vDXvZu5ZNamAlhzb33CWpQIa7JBXIcJekAhnuklQgw12SCmS4S1KBDHdJKpDhLkkFMtwlqUCGuyQVyHCXpAIZ7pJUIMNdkgpkuEtSgQx3SSqQ4S5JBTLcJalAhrskFchwl6QCGe6SVCDDXZIKZLhLUoEMd0kqkOEuSQU6rJ6FI2Iz8AqwF9iTmZ0RMQlYDUwHNgNXZOZv6ytT0qHg2ttfGvaydy2b1MBKRr9G7LlfkpkdmdlZPV4OrM3MmcDa6rEkqYWaMSxzGXBPNX0PcHkT1iFJOoh6wz2B70XEYxGxtGo7PjO3AlT3x/W1YEQsjYiuiOjasWNHnWVIkmrVNeYOXJCZWyLiOODhiNgw2AUz807gToDOzs6ssw5JUo269twzc0t1vx34FnAusC0ipgJU99vrLVKSNDTDDveIODIiJvZOA+8CngLWAIur2RYD3663SEnS0NQzLHM88K2I6H2dr2fmf0TET4H7IuIa4NfAwvrLlCQNxbDDPTN/Aczuo30ncGk9RUmS6uMZqpJUIMNdkgpU71chpeLVc0q81C7uuUtSgQx3SSqQ4S5JBTLcJalAhrskFchwl6QCGe6SVCDDXZIKZLhLUoEMd0kqkOEuSQUy3CWpQIa7JBXIcJekAhnuklQgw12SCmS4S1KBDHdJKpDhLkkFMtwlqUD+QLakItTzQ+Z3LZvUwEpGBvfcJalAhrskFchwl6QCGe6SVCDDXZIK5LdlJB3y6vmmDYzMb9u45y5JBXLPXYeEevfMpNHGPXdJKpDhLkkFMtwlqUCOuUtSnUbidW3cc5ekAhnuklQgw12SCtS0cI+IuRHxXERsiojlzVqPJOnNmhLuETEWuA14DzALuDIiZjVjXZKkN2vWt2XOBTZl5i8AIuJe4DLgmWasbCQeqVZjeYapNDTNCvcTgRdqHncD59XOEBFLgaXVw10R8Vwd65sM/GY4C375ujrWOrBh19Vk1jU01jU01jUEX76urrpO7u+JZoV79NGWb3iQeSdwZ0NWFtGVmZ2NeK1Gsq6hsa6hsa6hOdTqatYB1W7gpJrH04AtTVqXJOkAzQr3nwIzI2JGRBwBLALWNGldkqQDNGVYJjP3RMT1wEPAWODuzHy6GeuqNGR4pwmsa2isa2isa2gOqboiMweeS5I0qniGqiQVyHCXpAKN6nAfKZc4iIiTIuKRiHg2Ip6OiL+t2j8dES9GxPrqNq8NtW2OiCer9XdVbZMi4uGI2Fjdv6XFNf15TZ+sj4jfR8SH29FfEXF3RGyPiKdq2vrtn4i4odrenouId7e4rn+KiA0R8fOI+FZEHFO1T4+IP9b02x0trqvf963N/bW6pqbNEbG+am9lf/WXDc3fxjJzVN7oOVD7PHAKcATwBDCrTbVMBc6ppicC/0PPZRc+DfxDm/tpMzD5gLZ/BJZX08uBz7b5ffxfek7GaHl/ARcB5wBPDdQ/1Xv6BDAOmFFtf2NbWNe7gMOq6c/W1DW9dr429Fef71u7++uA5z8PfLIN/dVfNjR9GxvNe+77L3GQma8BvZc4aLnM3JqZj1fTrwDP0nOW7kh1GXBPNX0PcHkba7kUeD4zf9WOlWfmD4EDr23QX/9cBtybmbsz85fAJnq2w5bUlZnfy8w91cP/puf8kZbqp7/609b+6hURAVwBfKMZ6z6Yg2RD07ex0RzufV3ioO2BGhHTgbOBdVXT9dXH6LtbPfxRSeB7EfFYdckHgOMzcyv0bHzAcW2oq9ci3viPrt39Bf33z0ja5q4G/r3m8YyI+FlE/FdEXNiGevp630ZKf10IbMvMjTVtLe+vA7Kh6dvYaA73AS9x0GoRcRTwAPDhzPw98CXgVKAD2ErPR8NWuyAzz6HnCp3XRcRFbaihT9FzgtsC4P6qaST018GMiG0uIm4E9gCrqqatwFsz82zg74CvR8SftrCk/t63EdFfwJW8cQei5f3VRzb0O2sfbcPqs9Ec7iPqEgcRcTg9b96qzHwQIDO3ZebezNwH3EWTPpIeTGZuqe63A9+qatgWEVOruqcC21tdV+U9wOOZua2qse39Vemvf9q+zUXEYmA+cFVWg7TVR/id1fRj9IzTntaqmg7yvo2E/joMeB+wuret1f3VVzbQgm1sNIf7iLnEQTWm9xXg2cz855r2qTWzvRd46sBlm1zXkRExsXeangNyT9HTT4ur2RYD325lXTXesEfV7v6q0V//rAEWRcS4iJgBzAR+0qqiImIu8DFgQWb+oaZ9SvT8hgIRcUpV1y9aWFd/71tb+6vyF8CGzOzubWhlf/WXDbRiG2vFEeMmHomeR8/R5+eBG9tYxzvo+ej0c2B9dZsHfA14smpfA0xtcV2n0HPk/Qng6d4+Ao4F1gIbq/tJbeizPwF2AkfXtLW8v+j5z2Ur8Do9e03XHKx/gBur7e054D0trmsTPeOxvdvYHdW876/e3yeAx4G/bHFd/b5v7eyvqn0l8DcHzNvK/uovG5q+jXn5AUkq0GgelpEk9cNwl6QCGe6SVCDDXZIKZLhLUoEMd0kqkOEuSQX6P7L7XqHeDus8AAAAAElFTkSuQmCC\n",
      "text/plain": [
       "<Figure size 432x288 with 1 Axes>"
      ]
     },
     "metadata": {
      "needs_background": "light"
     },
     "output_type": "display_data"
    },
    {
     "data": {
      "image/png": "iVBORw0KGgoAAAANSUhEUgAAAXcAAAD4CAYAAAAXUaZHAAAABHNCSVQICAgIfAhkiAAAAAlwSFlzAAALEgAACxIB0t1+/AAAADh0RVh0U29mdHdhcmUAbWF0cGxvdGxpYiB2ZXJzaW9uMy4yLjIsIGh0dHA6Ly9tYXRwbG90bGliLm9yZy+WH4yJAAASHklEQVR4nO3dfZBddX3H8fdXEkjCQ0lIQmPCsLEDyoMM0K1AsJQQrUIdyB9lTKZ0tkDFaawNTCkGHKB1cIqWSekMaE1AE5AJ0ggFcYrENJTpTIUuD0IwponytBCTNYzRitGkfvvHPcTNZpfs7tnde/eX92tm597zdM8nm72fPfu7554bmYkkqSzvaHYASdLws9wlqUCWuyQVyHKXpAJZ7pJUoHHNDgAwderUbGtra3YMSRpTnnrqqR9n5rS+lrVEube1tdHZ2dnsGJI0pkTEy/0tc1hGkgpkuUtSgSx3SSpQS4y5SxLArl276OrqYufOnc2O0lImTJjArFmzGD9+/IC3sdwltYyuri4OP/xw2traiIhmx2kJmcn27dvp6upi9uzZA97OYRlJLWPnzp0cddRRFnsPEcFRRx016L9mLHdJLcVi39dQvieWuyQVyDF3SS3rY194Y1gfb/miKftdJyK45JJLuPvuuwHYvXs3M2bM4IwzzuDhhx8e9D5XrFhBZ2cnt91225555557Lrfccgvt7e20tbVx+OGHExFMnjyZu+66i2OPPXbQ++nNcpdGUJ1yGkgRafgdeuihrF+/nl/84hdMnDiRNWvWMHPmzBHd57p165g6dSo33ngjN910E8uXL6/9mA7LSFIv559/Pt/85jcBWLVqFQsXLtyz7Mknn2TOnDmcdtppzJkzh40bNwKwdOlSLrvsMgCef/55Tj75ZN58881B7fess87itddeG5Z/g+UuSb0sWLCAe++9l507d/Lcc89xxhln7Fn2nve8h8cff5xnnnmGz3zmM1x33XUAXHnllWzevJkHHniASy+9lC996UtMmjQJgK997Wuceuqpe776u5bWI488wvz584fl3+CwjCT1csopp/DSSy+xatUqLrjggr2W7dixg46ODjZt2kREsGvXLgDe8Y53sGLFCk455RQ+/vGPc/bZZ+/Z5qMf/eg+Y+49zZ07l61btzJ9+nRuuummYfk3eOQuSX248MILufrqq/cakgG4/vrrmTt3LuvXr+cb3/jGXuefb9q0icMOO4zXX399UPtat24dL7/8MieddBI33HDDsOTfb7lHxJcjYltErO8xb0pErImITdXt5B7Lro2IzRGxMSI+NCwpJWmUXXbZZdxwww28973v3Wv+jh079rzAumLFir3mL168mMcff5zt27ezevXqQe1v4sSJ3Hrrrdx111288Ub9s4QGMiyzArgNuKvHvCXA2sy8OSKWVNOfiogTgQXAScA7gW9HxPGZ+X+1k0o1eNbK2NTM7/2sWbNYvHjxPvOvueYaOjo6WLp0Keedd96e+VdddRWLFi3i+OOP584772Tu3Lmcc845g9rnjBkzWLhwIbfffjvXX399rfyRmftfKaINeDgzT66mNwLnZuaWiJgBPJaZ746IawEy8++r9b4F/G1m/tfbPX57e3v6YR0aSc0qd3+pDM6GDRs44YQTmh2jJfX1vYmIpzKzva/1hzrmfnRmbgGobqdX82cCr/ZYr6uat4+IuCIiOiOis7u7e4gxJEl9Ge4XVPu6AEKffxpk5rLMbM/M9mnT+vwIQEnSEA213LdWwzFUt9uq+V3AMT3WmwUM7mVjSQe0gQwVH2iG8j0Zark/BHRU9zuAB3vMXxARh0TEbOA44Mkh7kPSAWbChAls377dgu/hreu5T5gwYVDb7fdsmYhYBZwLTI2ILuBG4Gbgvoi4HHgFuLgK8UJE3Ad8D9gNfMIzZSQN1KxZs+jq6sLX4fb21icxDcZ+yz0zF/azaF4/638W+OygUkgSMH78+EF92pD65ztUJalAlrskFchyl6QCWe6SVCDLXZIKZLlLUoEsd0kqkOUuSQWy3CWpQJa7JBXIcpekAlnuklSggXyGqtR0dT6uTjoQeeQuSQWy3CWpQJa7JBXIcpekAlnuklQgy12SCmS5S1KBPM9dalF1zu1fvmjKMCbRWOSRuyQVyHKXpAJZ7pJUIMtdkgpkuUtSgSx3SSqQ5S5JBbLcJalAlrskFahWuUfEVRHxQkSsj4hVETEhIqZExJqI2FTdTh6usJKkgRlyuUfETOCvgPbMPBk4CFgALAHWZuZxwNpqWpI0iuoOy4wDJkbEOGAS8DpwEbCyWr4SmF9zH5KkQRpyuWfma8AtwCvAFmBHZj4KHJ2ZW6p1tgDThyOoJGng6gzLTKZxlD4beCdwaERcMojtr4iIzojo7O7uHmoMSVIf6gzLfAB4MTO7M3MXcD8wB9gaETMAqtttfW2cmcsysz0z26dNm1YjhiSptzrl/gpwZkRMiogA5gEbgIeAjmqdDuDBehElSYM15A/ryMwnImI18DSwG3gGWAYcBtwXEZfT+AVw8XAElSQNXK1PYsrMG4Ebe83+JY2jeElSk/gxexo1dT42TtLgePkBSSqQ5S5JBbLcJalAjrlL2ked10eWL5oyjEk0VB65S1KBLHdJKpDlLkkFstwlqUCWuyQVyHKXpAJZ7pJUIM9zl/bDa+JoLPLIXZIKZLlLUoEsd0kqkOUuSQWy3CWpQJa7JBXIcpekAlnuklQgy12SCmS5S1KBLHdJKpDlLkkFstwlqUCWuyQVyHKXpAJZ7pJUIMtdkgpkuUtSgWqVe0QcGRGrI+L7EbEhIs6KiCkRsSYiNlW3k4crrCRpYOp+huo/AY9k5h9HxMHAJOA6YG1m3hwRS4AlwKdq7kfSIPi5rxrykXtEHAGcA9wJkJm/ysyfABcBK6vVVgLz64aUJA1OnWGZdwHdwFci4pmIuCMiDgWOzswtANXt9L42jogrIqIzIjq7u7trxJAk9Van3McBpwNfzMzTgJ/TGIIZkMxclpntmdk+bdq0GjEkSb3VKfcuoCszn6imV9Mo+60RMQOgut1WL6IkabCGXO6Z+SPg1Yh4dzVrHvA94CGgo5rXATxYK6EkadDqni3zSeCe6kyZHwKX0viFcV9EXA68Alxccx+SpEGqVe6Z+SzQ3seieXUeV5JUT90jd0naS51z7JcvmjKMSQ5sXn5AkgpkuUtSgSx3SSqQ5S5JBbLcJalAlrskFchyl6QCWe6SVCDLXZIKZLlLUoEsd0kqkOUuSQWy3CWpQJa7JBXIcpekAlnuklQgy12SCmS5S1KBLHdJKpDlLkkFstwlqUCWuyQVyHKXpAJZ7pJUIMtdkgo0rtkBNPo+9oU3hrzt8kVThjGJpJHikbskFchyl6QCWe6SVCDH3CW1DF8PGj61j9wj4qCIeCYiHq6mp0TEmojYVN1Orh9TkjQYwzEssxjY0GN6CbA2M48D1lbTkqRRVKvcI2IW8EfAHT1mXwSsrO6vBObX2YckafDqHrnfClwD/LrHvKMzcwtAdTu9rw0j4oqI6IyIzu7u7poxJEk9DbncI+IjwLbMfGoo22fmssxsz8z2adOmDTWGJKkPdc6WORu4MCIuACYAR0TEV4GtETEjM7dExAxg23AElSQN3JCP3DPz2syclZltwALg3zPzEuAhoKNarQN4sHZKSdKgjMSbmG4GPhgRm4APVtOSpFE0LG9iyszHgMeq+9uBecPxuJKkofHyA5JUIMtdkgrktWU0KHWu/SFp9HjkLkkFstwlqUCWuyQVyHKXpAJZ7pJUIMtdkgpkuUtSgSx3SSqQ5S5JBbLcJalAlrskFchyl6QCWe6SVCDLXZIKZLlLUoEsd0kqkOUuSQWy3CWpQJa7JBXIcpekAlnuklQgy12SCmS5S1KBLHdJKpDlLkkFstwlqUCWuyQVyHKXpAINudwj4piIWBcRGyLihYhYXM2fEhFrImJTdTt5+OJKkgaizpH7buCvM/ME4EzgExFxIrAEWJuZxwFrq2lJ0igacrln5pbMfLq6/zNgAzATuAhYWa22EphfN6QkaXCGZcw9ItqA04AngKMzcws0fgEA0/vZ5oqI6IyIzu7u7uGIIUmq1C73iDgM+DpwZWb+dKDbZeayzGzPzPZp06bVjSFJ6mFcnY0jYjyNYr8nM++vZm+NiBmZuSUiZgDb6oaUpP352BfeGPK2yxdNGcYkraHO2TIB3AlsyMylPRY9BHRU9zuAB4ceT5I0FHWO3M8G/hR4PiKereZdB9wM3BcRlwOvABfXi6je6hyhSDowDLncM/M/gehn8byhPq4kqT7foSpJBbLcJalAlrskFchyl6QCWe6SVCDLXZIKVOsdqho6z1WXNJI8cpekAlnuklQgy12SCmS5S1KBLHdJKpDlLkkFstwlqUCWuyQVyHKXpAJZ7pJUIMtdkgpkuUtSgSx3SSqQ5S5JBbLcJalAB/z13OtcV335oinDmERSs9T9fIVW7AKP3CWpQJa7JBXIcpekAh3wY+51+DmoklqVR+6SVKAijtw9gpakvXnkLkkFKuLIXZKaqRXfLzNiR+4R8eGI2BgRmyNiyUjtR5K0rxEp94g4CLgdOB84EVgYESeOxL4kSfsaqSP39wGbM/OHmfkr4F7gohHalySpl5Eac58JvNpjugs4o+cKEXEFcEU1+b8RsbHG/qYCP66x/WgZKznBrCPFrCNjzGa94xO1HuvY/haMVLlHH/Nyr4nMZcCyYdlZRGdmtg/HY42ksZITzDpSzDoyzLqvkRqW6QKO6TE9C3h9hPYlSeplpMr9v4HjImJ2RBwMLAAeGqF9SZJ6GZFhmczcHRF/CXwLOAj4cma+MBL7qgzL8M4oGCs5wawjxawjw6y9RGbufy1J0pji5QckqUCWuyQVaMyVe0QcGRGrI+L7EbEhIs6KiCkRsSYiNlW3k5udEyAiroqIFyJifUSsiogJrZI1Ir4cEdsiYn2Pef1mi4hrq0tJbIyID7VA1n+ofgaei4gHIuLIVs3aY9nVEZERMbXZWfvLGRGfrLK8EBGfb3bO/rJGxKkR8Z2IeDYiOiPifS2S9ZiIWFd10wsRsbiaP/rPrcwcU1/ASuDPq/sHA0cCnweWVPOWAJ9rgZwzgReBidX0fcCftUpW4BzgdGB9j3l9ZqNxCYnvAocAs4EfAAc1OesfAuOq+59r5azV/GNonGDwMjC12Vn7+Z7OBb4NHFJNT292zrfJ+ihwfnX/AuCxFsk6Azi9un848D9VplF/bo2pI/eIOILGf/SdAJn5q8z8CY1LG6ysVlsJzG9Own2MAyZGxDhgEo1z/Vsia2Y+DvS+lF1/2S4C7s3MX2bmi8BmGpeYGBV9Zc3MRzNzdzX5HRrvpWjJrJV/BK5h7zfzNS1rPzn/Arg5M39ZrbOt2TnfJmsCR1T3f4vfvI+m2Vm3ZObT1f2fARtoHOiN+nNrTJU78C6gG/hKRDwTEXdExKHA0Zm5BRrfXGB6M0NWOV4DbgFeAbYAOzLzUVowaw/9ZevrchIzRznb27kM+LfqfstljYgLgdcy87u9FrVa1uOB34+IJyLiPyLi96r5rZYT4ErgHyLiVRrPs2ur+S2TNSLagNOAJ2jCc2uslfs4Gn+efTEzTwN+TuNPnJZTjaldRONPrXcCh0bEJc1NNWT7vZxEs0TEp4HdwD1vzepjtaZljYhJwKeBG/pa3Me8Zn5fxwGTgTOBvwHui4ig9XJC46+MqzLzGOAqqr/maZGsEXEY8HXgysz86dut2se8Yck71sq9C+jKzCeq6dU0yn5rRMwAqG639bP9aPoA8GJmdmfmLuB+YA6tmfUt/WVryctJREQH8BHgT7IawKT1sv4OjV/w342Il6o8T0fEb9N6WbuA+7PhSeDXNC5y1Wo5ATpoPKcA/oXfDGU0PWtEjKdR7Pdk5lsZR/25NabKPTN/BLwaEe+uZs0Dvkfj0gYd1bwO4MEmxOvtFeDMiJhUHf3MozH+1opZ39JftoeABRFxSETMBo4DnmxCvj0i4sPAp4ALM/PNHotaKmtmPp+Z0zOzLTPbaDyZT69+llsqK/CvwHkAEXE8jRMWfkzr5YRGAf5Bdf88YFN1v6lZq+f6ncCGzFzaY9HoP7dG61XkYXw1+lSgE3iOxg/jZOAoYC2N/+C1wJRm56yy/h3wfWA9cDeNV8RbIiuwisZrAbtoFM7lb5eNxtDCD4CNVGcpNDnrZhpjlc9WX//cqll7LX+J6myZZmbt53t6MPDV6uf1aeC8Zud8m6zvB56icabJE8DvtkjW99MYVnmux8/mBc14bnn5AUkq0JgalpEkDYzlLkkFstwlqUCWuyQVyHKXpAJZ7pJUIMtdkgr0/75xz2XSC7h4AAAAAElFTkSuQmCC\n",
      "text/plain": [
       "<Figure size 432x288 with 1 Axes>"
      ]
     },
     "metadata": {
      "needs_background": "light"
     },
     "output_type": "display_data"
    }
   ],
   "source": [
    "for i in range(4):\n",
    "    plt.hist(ecv[nodos[i]],bins=20,label=nodos[i],color='cornflowerblue')\n",
    "    plt.legend()\n",
    "    plt.show()"
   ]
  },
  {
   "cell_type": "markdown",
   "metadata": {},
   "source": [
    "## 1.7 Visualización de resultados de simulación."
   ]
  },
  {
   "cell_type": "code",
<<<<<<< HEAD
<<<<<<< Updated upstream
   "execution_count": 97,
=======
   "execution_count": null,
>>>>>>> Stashed changes
=======
   "execution_count": 97,
>>>>>>> main
   "metadata": {},
   "outputs": [],
   "source": [
    "def kde_sklearn(x, x_grid, bandwidth, **kwargs):\n",
    "    \"\"\"Kernel Density Estimation with Scikit-learn\"\"\"\n",
    "    kde_skl = KernelDensity(bandwidth=bandwidth, **kwargs)\n",
    "    kde_skl.fit(x[:, np.newaxis])\n",
    "    # score_samples() returns the log-likelihood of the samples\n",
    "    log_pdf = kde_skl.score_samples(x_grid[:, np.newaxis])\n",
    "    return np.exp(log_pdf)\n",
    "\n",
    "def generador_vad(proba_acum: 'Probabilidad acumulada', indices: 'Valores por generar', N: 'Aleatorios por generar'):\n",
    "    diccionario = {i: idx for i, idx in enumerate(indices)}\n",
    "    U = np.random.rand(N)\n",
    "    y = pd.Series([sum([1 for p in proba_acum if p < ui]) for ui in U]).map(diccionario)\n",
    "    return y\n",
    "\n",
    "def kde_sklearn_mod(x, bandwidth, **kwargs):\n",
    "    \"\"\"Kernel Density Estimation with Scikit-learn\"\"\"\n",
    "    kde_skl = KernelDensity(bandwidth=bandwidth, **kwargs)\n",
    "    kde_skl.fit(x[:, np.newaxis])\n",
    "    # score_samples() returns the log-likelihood of the samples\n",
    "    pdf = lambda x_grid: np.exp(kde_skl.score_samples(x_grid[:, np.newaxis])) if isinstance(x_grid, np.ndarray) else \\\n",
    "        np.exp(kde_skl.score_samples(np.array[x_grid])[:, np.newaxis])\n",
    "    return pdf\n",
    "\n",
    "def muestreo_est(B: 'Número de estratos'):\n",
    "    u= np.random.uniform(B) \n",
    "    i=np.arange(0,B) \n",
    "    v = (u+i)/B \n",
    "    return v \n",
    "    \n",
    "# Función que hace las pruebas para ver una distribución que se ajuste mejor al nodo    \n",
    "def prueba_dist(nodo: \"Nodo a estudiar\", bins: 'bins'):\n",
    "    '''\n",
    "    Esta función de devuelve que una gráfica en donde se ve como le quedan distintas distribuciones\n",
    "    arbitrarias al nodo que el usuario debe ingresar a estudiar, además del orden de menor a menor\n",
    "    de las distribuciones que se podrán usar más adelante.\n",
    "    '''\n",
    "    d_continuas = [d for d in dir(st) if isinstance(getattr(st, d), getattr(st, \"rv_continuous\"))]\n",
    "\n",
    "    y, x, _ = plt.hist(nodo, bins=bins, density=True)\n",
    "    x = x[1:]\n",
    "\n",
    "    error = pd.DataFrame(columns = [\"distribución\", \"error\"])\n",
    "    i = 0\n",
    "\n",
    "    for d in d_continuas[10:20]:\n",
    "        try:\n",
    "            params = getattr(st, d).fit(nodo)\n",
    "            y_hat = getattr(st, d)(*params).pdf(x)\n",
    "            error.loc[i, :] = [d, np.mean(np.abs((y - y_hat)/y))] #Error MAPE\n",
    "            plt.plot(x, y_hat, label = d)\n",
    "            i += 1\n",
    "        except:\n",
    "            pass\n",
    "    plt.legend()\n",
    "    plt.show()\n",
    "\n",
    "    error.set_index(\"distribución\", inplace=True)\n",
    "    print(error.sort_values(\"error\"))   \n",
    "    \n",
    "\n",
    "# Función que hace la prueba Q_Q y nos muestra la gráfica.    \n",
    "def q_q(nodo: \"Nodo a simular\", distr:\"Distribución a comparar\"):\n",
    "    '''\n",
    "    Esta función te arroja como se acomoda la distribución elegida (como entrada),\n",
    "    del nodo introducido.\n",
    "    '''\n",
    "    # Histograma de las variables creadas\n",
    "    divisiones = 20 # Cantidad de barras en el histograma\n",
    "    fig, ax = plt.subplots(2,1, figsize=(8,10))\n",
    "    fig.tight_layout(pad=3.0)\n",
    "\n",
    "    y, x, _ = ax[0].hist(nodo, divisiones, density=True, label='Histograma mediciones')\n",
    "\n",
    "    # Función de distribución de probabilidad la cual creemos que mis datos distribuyen \n",
    "    # RECORDAR: SÓLO FUNCIONA PARA DISTRIBUCIONES CONTINUAS\n",
    "    dist = distr\n",
    "    params = getattr(st, dist).fit(nodo)\n",
    "\n",
    "    # Graficar PDF de la distribución que queremos probar\n",
    "\n",
    "    # x = np.arange(measurements.min(), measurements.max(), .01)\n",
    "    y_hat = getattr(st, dist).pdf(x, *params)\n",
    "    ax[0].plot(x, y_hat,'r--', label='Distribución ajustada')\n",
    "    ax[0].set_ylabel('Probability')\n",
    "    ax[0].grid()\n",
    "\n",
    "    grap1 = sm.qqplot(nodo, dist=getattr(st, dist), line='q', fit=True, ax=ax[1])\n",
    "    ax[1].grid()\n",
    "    ax[1].set_title('Usando paquete stats')   \n",
    "    \n",
    "def complementarios_1(N):\n",
    "    a = np.random.rand(int(N/2))\n",
    "    b = 1-a\n",
    "    return np.concatenate((a,b))\n",
    "    \n",
    "# Asignación de variables para los nodos\n",
    "edad = np.array(ecv['Age'])\n",
    "colesterol = np.array(ecv[\"Cholesterol\"])\n",
    "presion = np.array(ecv[\"RestingBP\"])\n",
    "frecuencia = np.array(ecv[\"MaxHR\"])"
   ]
  },
  {
   "cell_type": "code",
   "execution_count": 98,
   "metadata": {},
   "outputs": [
    {
     "data": {
      "image/png": "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\n",
      "text/plain": [
       "<Figure size 432x288 with 1 Axes>"
      ]
     },
     "metadata": {
      "needs_background": "light"
     },
     "output_type": "display_data"
    },
    {
     "name": "stdout",
     "output_type": "stream",
     "text": [
      "                 error\n",
      "distribución          \n",
      "dweibull      0.197106\n",
      "dgamma        0.211236\n",
      "exponnorm     0.222513\n",
      "crystalball   0.222524\n",
      "erlang        0.230356\n",
      "chi           0.230855\n",
      "cosine         0.24974\n",
      "chi2          0.249824\n",
      "exponpow       1.33311\n",
      "expon          1.84807\n"
     ]
    }
   ],
   "source": [
    "# Probamos como se le ajustan distintas distribuciones\n",
    "    \n",
    "prueba_dist(edad, 20)"
   ]
  },
  {
   "cell_type": "code",
   "execution_count": 99,
   "metadata": {},
   "outputs": [
    {
     "data": {
      "image/png": "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\n",
      "text/plain": [
       "<Figure size 576x720 with 2 Axes>"
      ]
     },
     "metadata": {
      "needs_background": "light"
     },
     "output_type": "display_data"
    }
   ],
   "source": [
    "# Hacemos la prueba de q_q para la función de distribución que tenga menos error.\n",
    "q_q(edad, \"dweibull\")"
   ]
  },
  {
   "cell_type": "code",
   "execution_count": 100,
   "metadata": {},
   "outputs": [
    {
     "name": "stdout",
     "output_type": "stream",
     "text": [
      "{'bandwidth': 2.0}\n"
     ]
    }
   ],
   "source": [
    "grid = GridSearchCV(KernelDensity(),\n",
    "                    {'bandwidth': np.linspace(2, 100, 30)},\n",
    "                    cv=50) # 20-fold cross-validation\n",
    "grid.fit(edad[:, None])\n",
    "print(grid.best_params_)"
   ]
  },
  {
   "cell_type": "code",
   "execution_count": 101,
   "metadata": {},
   "outputs": [
    {
     "data": {
      "text/plain": [
       "<matplotlib.legend.Legend at 0x7fe7687131c0>"
      ]
     },
     "execution_count": 101,
     "metadata": {},
     "output_type": "execute_result"
    },
    {
     "data": {
      "image/png": "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\n",
      "text/plain": [
       "<Figure size 432x288 with 1 Axes>"
      ]
     },
     "metadata": {
      "needs_background": "light"
     },
     "output_type": "display_data"
    }
   ],
   "source": [
    "# KDE: Estimar el bandwith correcto con una función para optimizar el proceso\n",
    "fig, ax = plt.subplots()\n",
    "for bandwidth in [2,3,5, 15.5172]:\n",
    "    ax.plot(np.linspace(0,211,15), kde_sklearn(edad, np.linspace(0,211,15), bandwidth=bandwidth),\n",
    "            label='bw={0}'.format(bandwidth), linewidth=3, alpha=0.7)\n",
    "ax.hist(edad, 15, fc='gray', histtype='stepfilled', alpha=0.3, density=True)\n",
    "ax.legend(loc='upper left')"
   ]
  },
  {
   "cell_type": "code",
   "execution_count": 102,
   "metadata": {},
   "outputs": [
    {
     "data": {
      "image/png": "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\n",
      "text/plain": [
       "<Figure size 432x288 with 1 Axes>"
      ]
     },
     "metadata": {
      "needs_background": "light"
     },
     "output_type": "display_data"
    },
    {
     "name": "stdout",
     "output_type": "stream",
     "text": [
      "media mu =47.542800, desviación estándar muestral =8.832178\n",
      "53.510893246187365 9.427477516153495\n"
     ]
    }
   ],
   "source": [
    "# Reducción de varianza y Montecarlo\n",
    "N=10000\n",
    "\n",
    "f_1=kde_sklearn_mod(edad, 2)\n",
    "proba = f_1(np.arange(0,191,.4))\n",
    "f_acum = proba.cumsum()\n",
    "\n",
    "# Utilizamos el método estratificado\n",
    "u = muestreo_est(N)\n",
    "funcion2 = lambda u: (generador_vad(f_acum, edad, N))\n",
    "o=funcion2(u).values\n",
    "\n",
    "# Reducción por complementarios\n",
    "\n",
    "complements=complementarios_1(N)\n",
    "funcion2_1 = lambda u: (generador_vad(f_acum, edad, N))\n",
    "o_2=funcion2(u).values\n",
    "\n",
    "J = 20  # Cantidad de particiones del histograma\n",
    "\n",
    "y, x, _ = plt.hist(o, J, density=True)\n",
    "plt.show()\n",
    "\n",
    "# Se obvia el último valor de x para obtener exactamente J muestras de x\n",
    "x = x[:-1] \n",
    "\n",
    "# Media y desviación estándar muestral\n",
    "mu = np.mean(o)\n",
    "sigma = np.std(o)\n",
    "print('media mu =%f, desviación estándar muestral =%f'%(mu,sigma))\n",
    "print(edad.mean(), edad.std())"
   ]
  },
  {
   "cell_type": "code",
   "execution_count": 103,
   "metadata": {},
   "outputs": [
    {
     "data": {
      "text/plain": [
       "(47.5028, 47.5428, 53.510893246187365)"
      ]
     },
     "execution_count": 103,
     "metadata": {},
     "output_type": "execute_result"
    }
   ],
   "source": [
    "o_2.mean(),o.mean(), edad.mean()"
   ]
  },
  {
   "cell_type": "code",
   "execution_count": 104,
   "metadata": {},
   "outputs": [
    {
     "data": {
      "image/png": "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\n",
      "text/plain": [
       "<Figure size 432x288 with 1 Axes>"
      ]
     },
     "metadata": {
      "needs_background": "light"
     },
     "output_type": "display_data"
    }
   ],
   "source": [
    "# Comparamos el histograma de \"o\" (10000 simulaciones del ataque, en función de su distribución de probabilidad)\n",
    "plt.hist(o, bins=11, density = True, color = 'orange',label='Histgrama')\n",
    "plt.plot(np.arange(0,211,10),f_1(np.arange(0,211,10)),label='Función de distribución')\n",
    "plt.legend()\n",
    "plt.show()"
   ]
  },
  {
   "cell_type": "code",
   "execution_count": 105,
   "metadata": {},
   "outputs": [
    {
     "name": "stdout",
     "output_type": "stream",
     "text": [
      "Valor de chi cuadrado teorico  =  25.379802126513642\n",
      "Valor de chi cuadrado librería =  Power_divergenceResult(statistic=25.379802126513642, pvalue=0.14841668813401407)\n",
      "Estadístico de chi_cuadrado =  26.29622760486423\n",
      "Media muestral =  47.5428 \n",
      "Desviación estándar muestral =  8.832177996394774\n"
     ]
    }
   ],
   "source": [
    "# Nombramos la distribución y realizamos la prueba de chi2, prueba de hipótesis de que la distribución\n",
    "# es exponnorm\n",
    "dist = \"exponnorm\"\n",
    "pi = getattr(st, dist).pdf(x, *getattr(st, dist).fit(o))\n",
    "\n",
    "# Cálculo de la esperanza usando la expresión teórica\n",
    "Ei = x*pi\n",
    "\n",
    "# Cálculo teórico de la chi cuadrada\n",
    "x2 = np.sum(list(map(lambda Ei, obs_i:(obs_i - Ei)**2 / Ei, Ei, y)))\n",
    "print('Valor de chi cuadrado teorico  = ', x2)\n",
    "\n",
    "# Cálculo usando la librería estadística de la chi cuadrada\n",
    "X2 = st.chisquare(y, Ei)\n",
    "print('Valor de chi cuadrado librería = ', X2)\n",
    "\n",
    "# Cálculo de Grados de libertad del estadístico\n",
    "p = len(getattr(st, dist).fit(o)) # Parámetros estimados con los datos\n",
    "m = J-p-1 # grados de libertad\n",
    "\n",
    "Chi_est = st.chi2.ppf(q=0.95, df=m)\n",
    "print('Estadístico de chi_cuadrado = ', Chi_est)\n",
    "print('Media muestral = ', mu, '\\nDesviación estándar muestral = ', sigma)"
   ]
  },
  {
   "cell_type": "code",
   "execution_count": 68,
   "metadata": {},
   "outputs": [
    {
     "name": "stdout",
     "output_type": "stream",
     "text": [
      "La prueba de hipótesis arroja como resultado\n",
      " Ttest_1sampResult(statistic=-75.44646859692801, pvalue=0.0)\n",
      "Cálculo del estadístico de prueba teórico= -75.50010988958928\n",
      "Región de rechazo = (t<-0.83505218444221) U (t>0.83505218444221)\n"
     ]
    }
   ],
   "source": [
    "# Otra prueba de hipótesis, con la media simulando a que es 80\n",
    "media = edad.mean()\n",
    "sd = edad.std()\n",
    "N = len(edad)\n",
    "\n",
    "# Nivel de confianza\n",
    "confianza = 0.95\n",
    "\n",
    "# Datos reales\n",
    "X = edad\n",
    "\n",
    "# Hipótesis nula\n",
    "media2 = 80\n",
    "\n",
    "# Realizamos la prueba de hipótesis para H0= mu=media2\n",
    "ho = st.ttest_1samp(X, media2)\n",
    "print('La prueba de hipótesis arroja como resultado\\n',ho)\n",
    "\n",
    "# Calculamos el estadístico normalizado\n",
    "t = (np.mean(X) - media2)/(np.std(X) / np.sqrt(N))\n",
    "print('Cálculo del estadístico de prueba teórico=', t)\n",
    "\n",
    "# Cálculo de la región de rechazo\n",
    "confianza_ph = 0.05\n",
    "cuantil = st.t(N-1).cdf(1-confianza_ph/2)\n",
    "print(f'Región de rechazo = (t<{-cuantil}) U (t>{cuantil})')"
   ]
  },
  {
   "cell_type": "code",
   "execution_count": 106,
   "metadata": {},
   "outputs": [
    {
     "name": "stdout",
     "output_type": "stream",
     "text": [
      "Con una confianza de 0.95 la media estará en el intervalo t,\n",
      " (52.899905462211464, 54.121881030163266)\n",
      "Media calculada 53.510893246187365\n"
     ]
    },
    {
     "data": {
      "text/plain": [
       "47.5428"
      ]
     },
     "execution_count": 106,
     "metadata": {},
     "output_type": "execute_result"
    }
   ],
   "source": [
    "# Nivel de confianza, y su intérvalo.\n",
    "\n",
    "# Parámetros de los datos reales\n",
    "confianza = .95\n",
    "media = edad.mean()\n",
    "sd = edad.std()\n",
    "\n",
    "# Intervalo de confianza usando t-student\n",
    "i1 = st.t.interval(confianza, len(edad)-1, loc=np.mean(edad), scale=st.sem(edad))\n",
    "\n",
    "print('Con una confianza de %2.2f la media estará en el intervalo t,\\n %s' %(confianza,i1))\n",
    "print('Media calculada' ,np.mean(edad))\n",
    "\n",
    "o.mean()"
   ]
  },
  {
   "cell_type": "markdown",
   "metadata": {},
   "source": [
    "## 1.8 Conclusiones"
   ]
  },
  {
   "cell_type": "code",
   "execution_count": null,
   "metadata": {},
   "outputs": [],
   "source": []
  },
  {
   "cell_type": "markdown",
   "metadata": {},
   "source": [
    "## Referencias"
   ]
  },
  {
   "cell_type": "code",
   "execution_count": null,
   "metadata": {},
   "outputs": [],
   "source": []
  }
 ],
 "metadata": {
  "kernelspec": {
   "display_name": "Python 3",
   "language": "python",
   "name": "python3"
  },
  "language_info": {
   "codemirror_mode": {
    "name": "ipython",
    "version": 3
   },
   "file_extension": ".py",
   "mimetype": "text/x-python",
   "name": "python",
   "nbconvert_exporter": "python",
   "pygments_lexer": "ipython3",
   "version": "3.8.3"
  }
 },
 "nbformat": 4,
 "nbformat_minor": 4
}
