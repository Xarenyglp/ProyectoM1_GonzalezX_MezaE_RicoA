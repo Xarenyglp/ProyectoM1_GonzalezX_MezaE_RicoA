{
 "cells": [
  {
   "cell_type": "markdown",
   "metadata": {},
   "source": [
    "<img style=\"float: left; margin: 30px 15px 15px 15px;\" src=\"https://pngimage.net/wp-content/uploads/2018/06/logo-iteso-png-5.png\" width=\"300\" height=\"500\" /> \n",
    "    \n",
    "    \n",
    "### <font color='navy'> Simulación de procesos financieros. \n",
    "\n",
    "**Nombres:** Xareny González,  Estefanía Meza, Alejandra Rico\n",
    "\n",
    "**Fecha:** 14 de octubre del 2021.\n",
    "\n",
    "**Expediente** : 720811, 729930, 720838.\n",
    "    \n",
    "**Profesor:** Oscar David Jaramillo Zuluaga.\n",
    "    \n",
    "**Link Github**: [Link con el enlace del repositorio del creador del proyecto](https://github.com/Xarenyglp/ProyectoM1_GonzalezX_MezaE_RicoA)\n",
    "\n",
    "# Proyecto TEMA 1"
   ]
  },
  {
   "cell_type": "markdown",
   "metadata": {},
   "source": [
    "## 1.1 Causas de Enfermedades Cardiovasculares"
   ]
  },
  {
   "cell_type": "markdown",
   "metadata": {},
   "source": [
    "<img src=\"cora.jpg\">"
   ]
  },
  {
   "cell_type": "markdown",
   "metadata": {},
   "source": [
    "## 1.2 Objetivos"
   ]
  },
  {
   "cell_type": "markdown",
   "metadata": {},
   "source": [
    "### Objetivo General"
   ]
  },
  {
   "cell_type": "markdown",
   "metadata": {},
   "source": [
    "> A lo largo del proyecto se pretendrá encontrar qué causas provocan que las personas sean más propensas a desarrollar una enfermedad cardiovascular. "
   ]
  },
  {
   "cell_type": "markdown",
   "metadata": {},
   "source": [
    "### Objetivos Específicos"
   ]
  },
  {
   "cell_type": "markdown",
   "metadata": {},
   "source": [
    "> Simular la probabilidad de casos en donde las personas sufran de una enfermedad cariovascular considerando los siguientes datos:\n",
    "\n",
    ">* **Age:** edad \n",
    ">* **Sex:** sexo \n",
    ">* **ChestPainType:** tipo de dolor de pecho (*TA:* angina típica, *ATA:* angina atípica, *NAP:* dolor no anginal, *ASY:* asintomático)\n",
    ">* **Resting BP:** presión arterial en reposo (mm Hg)\n",
    ">* **Cholesterol:** colesterol (mm/dl)\n",
    ">* **Fasting BS:** azúcar en sangre en ayunas (1: si BS en ayunas> 120 mg/dl, 0: en caso contrario)\n",
    ">* **Resting ECG:** resultados de electrocardiograma en reposo (*Normal:* Normal, *ST:* con anomalía de la onda ST-T, inversiones de la onda T y/o elevación o depresión del ST> 0.05 mV, *HVI:* muestra una hipertrofia ventricular izquierda probable o definitiva según los criterios de estes)\n",
    ">* **MaxHR:** frecuencia cardíaca máxima alcanzada (Valor numérico entre 60 y 202)\n",
    ">* **ExerciseAngina:** angina inducida por el ejercicio (Y: Sí, N: No)\n",
    ">* **Oldpeak:** oldpeak = ST (Valor numérico medido en depresión)\n",
    "> * **ST_Slope:** pendiente del segmento ST del ejercicio pico (*Up:* uploping, *Flat:* flat, *Down:* downsloping)\n",
    ">* **HeartDisease:** clase de salida (1: enfermedad cardíaca, 0: normal)"
   ]
  },
  {
   "cell_type": "markdown",
   "metadata": {},
   "source": [
    "Referencia: https://www.kaggle.com/fedesoriano/heart-failure-prediction"
   ]
  },
  {
   "cell_type": "markdown",
   "metadata": {},
   "source": [
    "## 1.3 Definición del problema"
   ]
  },
  {
   "cell_type": "markdown",
   "metadata": {},
   "source": [
    "> Las enfermedades cardiovasculares (ECV) son la principal causa de muerte a nivel mundial, cobrando un estimado de 17,9 millones de vidas cada año, lo que representa el 31% de todas las muertes en todo el mundo. Cuatro de cada 5 muertes por ECV se deben a ataques cardíacos y accidentes cerebrovasculares, y un tercio de estas muertes ocurren prematuramente en personas menores de 70 años. La insuficiencia cardíaca es un evento común causado por las ECV y este conjunto de datos contiene 11 características que pueden usarse para predecir una posible enfermedad cardíaca.\n",
    "\n",
    "> Las personas con enfermedad cardiovascular o que se encuentran en alto riesgo cardiovascular (debido a la presencia de uno o más factores de riesgo como hipertensión, diabetes, hiperlipidemia o enfermedad ya establecida) necesitan una detección y manejo precoces donde un modelo de aprendizaje automático puede ser de gran ayuda."
   ]
  },
  {
   "cell_type": "markdown",
   "metadata": {},
   "source": [
    "Referencia: https://www.paho.org/es/temas/enfermedades-cardiovasculares"
   ]
  },
  {
   "cell_type": "markdown",
   "metadata": {},
   "source": [
    "## 1.4 Nodos y variables que se decidieron simular y porqué"
   ]
  },
  {
   "cell_type": "markdown",
   "metadata": {},
   "source": [
    "> Para el análisis de esta base de datos nos enfocaremos en las siguientes variables, las cuales consideramos son las más significativas y marcan una diferencia más generalizada en la población:\n",
    "* **Age:** edad\n",
    "* **Cholesterol:** colesterol\n",
    "* **Resting BP:** Presión alta en reposo\n",
    "* **MaxHR:** frecuencia cardiaca máxima\n"
   ]
  },
  {
   "cell_type": "markdown",
   "metadata": {},
   "source": [
    "<img src=\"df.jpg\">"
   ]
  },
  {
   "cell_type": "markdown",
   "metadata": {},
   "source": [
    "## 1.5 Definición de hipótesis y supuestos"
   ]
  },
  {
   "cell_type": "markdown",
   "metadata": {},
   "source": [
    "### Hipótesis"
   ]
  },
  {
   "cell_type": "markdown",
   "metadata": {},
   "source": [
    "* Las personas con una frecuencia cardíaca alta y colesterol alto son propensas a tener problemas cardiacos.\n",
    "\n",
    "* El rango de edad para desarrollar una enfermedad cardíaca es entre los 55-70 años de edad."
   ]
  },
  {
   "cell_type": "markdown",
   "metadata": {},
   "source": [
    "### Supuestos"
   ]
  },
  {
   "cell_type": "markdown",
   "metadata": {},
   "source": [
    "* Los datos estan distribuidos de forma normal.\n",
    "* La probabilidad de desarrollar alguna enfermadad influye directamente con todos los síntomas planteados."
   ]
  },
  {
   "cell_type": "markdown",
   "metadata": {},
   "source": [
    "## 1.6 Obtención de la base de datos"
   ]
  },
  {
   "cell_type": "code",
   "execution_count": null,
   "metadata": {},
   "outputs": [],
   "source": []
  },
  {
   "cell_type": "markdown",
   "metadata": {},
   "source": [
    "## 1.7 Visualización de resultados de simulación."
   ]
  },
  {
   "cell_type": "code",
   "execution_count": null,
   "metadata": {},

   "outputs": [],
   "source": []
  },
  {
   "cell_type": "markdown",
   "metadata": {},
   "source": [
    "## 1.8 Conclusiones"
   ]
  },
  {
   "cell_type": "code",
   "execution_count": null,
   "metadata": {},
   "outputs": [],
   "source": []
  },
  {
   "cell_type": "markdown",
   "metadata": {},
   "source": [
    "## Referencias"
   ]
  },
  {
   "cell_type": "code",
   "execution_count": null,
   "metadata": {},
   "outputs": [],
   "source": []

  }
 ],
 "metadata": {
  "kernelspec": {
   "display_name": "Python 3",
   "language": "python",
   "name": "python3"
  },
  "language_info": {
   "codemirror_mode": {
    "name": "ipython",
    "version": 3
   },
   "file_extension": ".py",
   "mimetype": "text/x-python",
   "name": "python",
   "nbconvert_exporter": "python",
   "pygments_lexer": "ipython3",
   "version": "3.8.8"
  }
 },
 "nbformat": 4,
 "nbformat_minor": 4
}
